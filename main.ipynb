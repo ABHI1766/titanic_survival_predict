{
 "cells": [
  {
   "cell_type": "markdown",
   "metadata": {},
   "source": [
    "# Load the dataset"
   ]
  },
  {
   "cell_type": "code",
   "execution_count": 1,
   "metadata": {},
   "outputs": [],
   "source": [
    "import pandas as pd\n",
    "import numpy as np\n",
    "import matplotlib.pyplot as plt\n",
    "import seaborn as sns"
   ]
  },
  {
   "cell_type": "markdown",
   "metadata": {},
   "source": [
    "Using the Titanic dataset from [this](https://www.kaggle.com/c/titanic/overview) Kaggle competition.\n",
    "\n",
    "This dataset contains information about 891 people who were on board the ship when departed on April 15th, 1912. As noted in the description on Kaggle's website, some people aboard the ship were more likely to survive the wreck than others. There were not enough lifeboats for everybody so women, children, and the upper-class were prioritized. Using the information about these 891 passengers, the challenge is to build a model to predict which people would survive based on the following fields:\n",
    "\n",
    "- **Name** (str) - Name of the passenger\n",
    "- **Pclass** (int) - Ticket class\n",
    "- **Sex** (str) - Sex of the passenger\n",
    "- **Age** (float) - Age in years\n",
    "- **SibSp** (int) - Number of siblings and spouses aboard\n",
    "- **Parch** (int) - Number of parents and children aboard\n",
    "- **Ticket** (str) - Ticket number\n",
    "- **Fare** (float) - Passenger fare\n",
    "- **Cabin** (str) - Cabin number\n",
    "- **Embarked** (str) - Port of embarkation (C = Cherbourg, Q = Queenstown, S = Southampton)"
   ]
  },
  {
   "cell_type": "code",
   "execution_count": 2,
   "metadata": {},
   "outputs": [],
   "source": [
    "df = pd.read_csv('titanic.csv')"
   ]
  },
  {
   "cell_type": "code",
   "execution_count": 3,
   "metadata": {},
   "outputs": [
    {
     "data": {
      "text/html": [
       "<div>\n",
       "<style scoped>\n",
       "    .dataframe tbody tr th:only-of-type {\n",
       "        vertical-align: middle;\n",
       "    }\n",
       "\n",
       "    .dataframe tbody tr th {\n",
       "        vertical-align: top;\n",
       "    }\n",
       "\n",
       "    .dataframe thead th {\n",
       "        text-align: right;\n",
       "    }\n",
       "</style>\n",
       "<table border=\"1\" class=\"dataframe\">\n",
       "  <thead>\n",
       "    <tr style=\"text-align: right;\">\n",
       "      <th></th>\n",
       "      <th>PassengerId</th>\n",
       "      <th>Survived</th>\n",
       "      <th>Pclass</th>\n",
       "      <th>Name</th>\n",
       "      <th>Sex</th>\n",
       "      <th>Age</th>\n",
       "      <th>SibSp</th>\n",
       "      <th>Parch</th>\n",
       "      <th>Ticket</th>\n",
       "      <th>Fare</th>\n",
       "      <th>Cabin</th>\n",
       "      <th>Embarked</th>\n",
       "    </tr>\n",
       "  </thead>\n",
       "  <tbody>\n",
       "    <tr>\n",
       "      <th>0</th>\n",
       "      <td>1</td>\n",
       "      <td>0</td>\n",
       "      <td>3</td>\n",
       "      <td>Braund, Mr. Owen Harris</td>\n",
       "      <td>male</td>\n",
       "      <td>22.0</td>\n",
       "      <td>1</td>\n",
       "      <td>0</td>\n",
       "      <td>A/5 21171</td>\n",
       "      <td>7.2500</td>\n",
       "      <td>NaN</td>\n",
       "      <td>S</td>\n",
       "    </tr>\n",
       "    <tr>\n",
       "      <th>1</th>\n",
       "      <td>2</td>\n",
       "      <td>1</td>\n",
       "      <td>1</td>\n",
       "      <td>Cumings, Mrs. John Bradley (Florence Briggs Th...</td>\n",
       "      <td>female</td>\n",
       "      <td>38.0</td>\n",
       "      <td>1</td>\n",
       "      <td>0</td>\n",
       "      <td>PC 17599</td>\n",
       "      <td>71.2833</td>\n",
       "      <td>C85</td>\n",
       "      <td>C</td>\n",
       "    </tr>\n",
       "    <tr>\n",
       "      <th>2</th>\n",
       "      <td>3</td>\n",
       "      <td>1</td>\n",
       "      <td>3</td>\n",
       "      <td>Heikkinen, Miss. Laina</td>\n",
       "      <td>female</td>\n",
       "      <td>26.0</td>\n",
       "      <td>0</td>\n",
       "      <td>0</td>\n",
       "      <td>STON/O2. 3101282</td>\n",
       "      <td>7.9250</td>\n",
       "      <td>NaN</td>\n",
       "      <td>S</td>\n",
       "    </tr>\n",
       "    <tr>\n",
       "      <th>3</th>\n",
       "      <td>4</td>\n",
       "      <td>1</td>\n",
       "      <td>1</td>\n",
       "      <td>Futrelle, Mrs. Jacques Heath (Lily May Peel)</td>\n",
       "      <td>female</td>\n",
       "      <td>35.0</td>\n",
       "      <td>1</td>\n",
       "      <td>0</td>\n",
       "      <td>113803</td>\n",
       "      <td>53.1000</td>\n",
       "      <td>C123</td>\n",
       "      <td>S</td>\n",
       "    </tr>\n",
       "    <tr>\n",
       "      <th>4</th>\n",
       "      <td>5</td>\n",
       "      <td>0</td>\n",
       "      <td>3</td>\n",
       "      <td>Allen, Mr. William Henry</td>\n",
       "      <td>male</td>\n",
       "      <td>35.0</td>\n",
       "      <td>0</td>\n",
       "      <td>0</td>\n",
       "      <td>373450</td>\n",
       "      <td>8.0500</td>\n",
       "      <td>NaN</td>\n",
       "      <td>S</td>\n",
       "    </tr>\n",
       "    <tr>\n",
       "      <th>5</th>\n",
       "      <td>6</td>\n",
       "      <td>0</td>\n",
       "      <td>3</td>\n",
       "      <td>Moran, Mr. James</td>\n",
       "      <td>male</td>\n",
       "      <td>NaN</td>\n",
       "      <td>0</td>\n",
       "      <td>0</td>\n",
       "      <td>330877</td>\n",
       "      <td>8.4583</td>\n",
       "      <td>NaN</td>\n",
       "      <td>Q</td>\n",
       "    </tr>\n",
       "    <tr>\n",
       "      <th>6</th>\n",
       "      <td>7</td>\n",
       "      <td>0</td>\n",
       "      <td>1</td>\n",
       "      <td>McCarthy, Mr. Timothy J</td>\n",
       "      <td>male</td>\n",
       "      <td>54.0</td>\n",
       "      <td>0</td>\n",
       "      <td>0</td>\n",
       "      <td>17463</td>\n",
       "      <td>51.8625</td>\n",
       "      <td>E46</td>\n",
       "      <td>S</td>\n",
       "    </tr>\n",
       "    <tr>\n",
       "      <th>7</th>\n",
       "      <td>8</td>\n",
       "      <td>0</td>\n",
       "      <td>3</td>\n",
       "      <td>Palsson, Master. Gosta Leonard</td>\n",
       "      <td>male</td>\n",
       "      <td>2.0</td>\n",
       "      <td>3</td>\n",
       "      <td>1</td>\n",
       "      <td>349909</td>\n",
       "      <td>21.0750</td>\n",
       "      <td>NaN</td>\n",
       "      <td>S</td>\n",
       "    </tr>\n",
       "    <tr>\n",
       "      <th>8</th>\n",
       "      <td>9</td>\n",
       "      <td>1</td>\n",
       "      <td>3</td>\n",
       "      <td>Johnson, Mrs. Oscar W (Elisabeth Vilhelmina Berg)</td>\n",
       "      <td>female</td>\n",
       "      <td>27.0</td>\n",
       "      <td>0</td>\n",
       "      <td>2</td>\n",
       "      <td>347742</td>\n",
       "      <td>11.1333</td>\n",
       "      <td>NaN</td>\n",
       "      <td>S</td>\n",
       "    </tr>\n",
       "    <tr>\n",
       "      <th>9</th>\n",
       "      <td>10</td>\n",
       "      <td>1</td>\n",
       "      <td>2</td>\n",
       "      <td>Nasser, Mrs. Nicholas (Adele Achem)</td>\n",
       "      <td>female</td>\n",
       "      <td>14.0</td>\n",
       "      <td>1</td>\n",
       "      <td>0</td>\n",
       "      <td>237736</td>\n",
       "      <td>30.0708</td>\n",
       "      <td>NaN</td>\n",
       "      <td>C</td>\n",
       "    </tr>\n",
       "  </tbody>\n",
       "</table>\n",
       "</div>"
      ],
      "text/plain": [
       "   PassengerId  Survived  Pclass  \\\n",
       "0            1         0       3   \n",
       "1            2         1       1   \n",
       "2            3         1       3   \n",
       "3            4         1       1   \n",
       "4            5         0       3   \n",
       "5            6         0       3   \n",
       "6            7         0       1   \n",
       "7            8         0       3   \n",
       "8            9         1       3   \n",
       "9           10         1       2   \n",
       "\n",
       "                                                Name     Sex   Age  SibSp  \\\n",
       "0                            Braund, Mr. Owen Harris    male  22.0      1   \n",
       "1  Cumings, Mrs. John Bradley (Florence Briggs Th...  female  38.0      1   \n",
       "2                             Heikkinen, Miss. Laina  female  26.0      0   \n",
       "3       Futrelle, Mrs. Jacques Heath (Lily May Peel)  female  35.0      1   \n",
       "4                           Allen, Mr. William Henry    male  35.0      0   \n",
       "5                                   Moran, Mr. James    male   NaN      0   \n",
       "6                            McCarthy, Mr. Timothy J    male  54.0      0   \n",
       "7                     Palsson, Master. Gosta Leonard    male   2.0      3   \n",
       "8  Johnson, Mrs. Oscar W (Elisabeth Vilhelmina Berg)  female  27.0      0   \n",
       "9                Nasser, Mrs. Nicholas (Adele Achem)  female  14.0      1   \n",
       "\n",
       "   Parch            Ticket     Fare Cabin Embarked  \n",
       "0      0         A/5 21171   7.2500   NaN        S  \n",
       "1      0          PC 17599  71.2833   C85        C  \n",
       "2      0  STON/O2. 3101282   7.9250   NaN        S  \n",
       "3      0            113803  53.1000  C123        S  \n",
       "4      0            373450   8.0500   NaN        S  \n",
       "5      0            330877   8.4583   NaN        Q  \n",
       "6      0             17463  51.8625   E46        S  \n",
       "7      1            349909  21.0750   NaN        S  \n",
       "8      2            347742  11.1333   NaN        S  \n",
       "9      0            237736  30.0708   NaN        C  "
      ]
     },
     "execution_count": 3,
     "metadata": {},
     "output_type": "execute_result"
    }
   ],
   "source": [
    "df.head(10)"
   ]
  },
  {
   "cell_type": "code",
   "execution_count": null,
   "metadata": {},
   "outputs": [],
   "source": []
  },
  {
   "cell_type": "markdown",
   "metadata": {},
   "source": [
    "# Cleaning and Exploring Continuous Features"
   ]
  },
  {
   "cell_type": "code",
   "execution_count": 4,
   "metadata": {
    "scrolled": true
   },
   "outputs": [
    {
     "name": "stdout",
     "output_type": "stream",
     "text": [
      "<class 'pandas.core.frame.DataFrame'>\n",
      "RangeIndex: 891 entries, 0 to 890\n",
      "Data columns (total 12 columns):\n",
      " #   Column       Non-Null Count  Dtype  \n",
      "---  ------       --------------  -----  \n",
      " 0   PassengerId  891 non-null    int64  \n",
      " 1   Survived     891 non-null    int64  \n",
      " 2   Pclass       891 non-null    int64  \n",
      " 3   Name         891 non-null    object \n",
      " 4   Sex          891 non-null    object \n",
      " 5   Age          714 non-null    float64\n",
      " 6   SibSp        891 non-null    int64  \n",
      " 7   Parch        891 non-null    int64  \n",
      " 8   Ticket       891 non-null    object \n",
      " 9   Fare         891 non-null    float64\n",
      " 10  Cabin        204 non-null    object \n",
      " 11  Embarked     889 non-null    object \n",
      "dtypes: float64(2), int64(5), object(5)\n",
      "memory usage: 83.7+ KB\n"
     ]
    }
   ],
   "source": [
    "df.info()"
   ]
  },
  {
   "cell_type": "markdown",
   "metadata": {},
   "source": [
    "Drop irrelevant Features `Embarked` , `Passengerid` , `Ticket` and `Name`"
   ]
  },
  {
   "cell_type": "code",
   "execution_count": 5,
   "metadata": {},
   "outputs": [],
   "source": [
    "df.drop(['Embarked', 'Ticket' ,'PassengerId','Name'],axis=1,inplace=True)"
   ]
  },
  {
   "cell_type": "code",
   "execution_count": 6,
   "metadata": {},
   "outputs": [
    {
     "data": {
      "text/html": [
       "<div>\n",
       "<style scoped>\n",
       "    .dataframe tbody tr th:only-of-type {\n",
       "        vertical-align: middle;\n",
       "    }\n",
       "\n",
       "    .dataframe tbody tr th {\n",
       "        vertical-align: top;\n",
       "    }\n",
       "\n",
       "    .dataframe thead th {\n",
       "        text-align: right;\n",
       "    }\n",
       "</style>\n",
       "<table border=\"1\" class=\"dataframe\">\n",
       "  <thead>\n",
       "    <tr style=\"text-align: right;\">\n",
       "      <th></th>\n",
       "      <th>Survived</th>\n",
       "      <th>Pclass</th>\n",
       "      <th>Sex</th>\n",
       "      <th>Age</th>\n",
       "      <th>SibSp</th>\n",
       "      <th>Parch</th>\n",
       "      <th>Fare</th>\n",
       "      <th>Cabin</th>\n",
       "    </tr>\n",
       "  </thead>\n",
       "  <tbody>\n",
       "    <tr>\n",
       "      <th>0</th>\n",
       "      <td>0</td>\n",
       "      <td>3</td>\n",
       "      <td>male</td>\n",
       "      <td>22.0</td>\n",
       "      <td>1</td>\n",
       "      <td>0</td>\n",
       "      <td>7.2500</td>\n",
       "      <td>NaN</td>\n",
       "    </tr>\n",
       "    <tr>\n",
       "      <th>1</th>\n",
       "      <td>1</td>\n",
       "      <td>1</td>\n",
       "      <td>female</td>\n",
       "      <td>38.0</td>\n",
       "      <td>1</td>\n",
       "      <td>0</td>\n",
       "      <td>71.2833</td>\n",
       "      <td>C85</td>\n",
       "    </tr>\n",
       "    <tr>\n",
       "      <th>2</th>\n",
       "      <td>1</td>\n",
       "      <td>3</td>\n",
       "      <td>female</td>\n",
       "      <td>26.0</td>\n",
       "      <td>0</td>\n",
       "      <td>0</td>\n",
       "      <td>7.9250</td>\n",
       "      <td>NaN</td>\n",
       "    </tr>\n",
       "    <tr>\n",
       "      <th>3</th>\n",
       "      <td>1</td>\n",
       "      <td>1</td>\n",
       "      <td>female</td>\n",
       "      <td>35.0</td>\n",
       "      <td>1</td>\n",
       "      <td>0</td>\n",
       "      <td>53.1000</td>\n",
       "      <td>C123</td>\n",
       "    </tr>\n",
       "    <tr>\n",
       "      <th>4</th>\n",
       "      <td>0</td>\n",
       "      <td>3</td>\n",
       "      <td>male</td>\n",
       "      <td>35.0</td>\n",
       "      <td>0</td>\n",
       "      <td>0</td>\n",
       "      <td>8.0500</td>\n",
       "      <td>NaN</td>\n",
       "    </tr>\n",
       "  </tbody>\n",
       "</table>\n",
       "</div>"
      ],
      "text/plain": [
       "   Survived  Pclass     Sex   Age  SibSp  Parch     Fare Cabin\n",
       "0         0       3    male  22.0      1      0   7.2500   NaN\n",
       "1         1       1  female  38.0      1      0  71.2833   C85\n",
       "2         1       3  female  26.0      0      0   7.9250   NaN\n",
       "3         1       1  female  35.0      1      0  53.1000  C123\n",
       "4         0       3    male  35.0      0      0   8.0500   NaN"
      ]
     },
     "execution_count": 6,
     "metadata": {},
     "output_type": "execute_result"
    }
   ],
   "source": [
    "df.head()"
   ]
  },
  {
   "cell_type": "code",
   "execution_count": 7,
   "metadata": {},
   "outputs": [
    {
     "data": {
      "text/html": [
       "<div>\n",
       "<style scoped>\n",
       "    .dataframe tbody tr th:only-of-type {\n",
       "        vertical-align: middle;\n",
       "    }\n",
       "\n",
       "    .dataframe tbody tr th {\n",
       "        vertical-align: top;\n",
       "    }\n",
       "\n",
       "    .dataframe thead th {\n",
       "        text-align: right;\n",
       "    }\n",
       "</style>\n",
       "<table border=\"1\" class=\"dataframe\">\n",
       "  <thead>\n",
       "    <tr style=\"text-align: right;\">\n",
       "      <th></th>\n",
       "      <th>Survived</th>\n",
       "      <th>Pclass</th>\n",
       "      <th>Age</th>\n",
       "      <th>SibSp</th>\n",
       "      <th>Parch</th>\n",
       "      <th>Fare</th>\n",
       "    </tr>\n",
       "  </thead>\n",
       "  <tbody>\n",
       "    <tr>\n",
       "      <th>count</th>\n",
       "      <td>891.000000</td>\n",
       "      <td>891.000000</td>\n",
       "      <td>714.000000</td>\n",
       "      <td>891.000000</td>\n",
       "      <td>891.000000</td>\n",
       "      <td>891.000000</td>\n",
       "    </tr>\n",
       "    <tr>\n",
       "      <th>mean</th>\n",
       "      <td>0.383838</td>\n",
       "      <td>2.308642</td>\n",
       "      <td>29.699118</td>\n",
       "      <td>0.523008</td>\n",
       "      <td>0.381594</td>\n",
       "      <td>32.204208</td>\n",
       "    </tr>\n",
       "    <tr>\n",
       "      <th>std</th>\n",
       "      <td>0.486592</td>\n",
       "      <td>0.836071</td>\n",
       "      <td>14.526497</td>\n",
       "      <td>1.102743</td>\n",
       "      <td>0.806057</td>\n",
       "      <td>49.693429</td>\n",
       "    </tr>\n",
       "    <tr>\n",
       "      <th>min</th>\n",
       "      <td>0.000000</td>\n",
       "      <td>1.000000</td>\n",
       "      <td>0.420000</td>\n",
       "      <td>0.000000</td>\n",
       "      <td>0.000000</td>\n",
       "      <td>0.000000</td>\n",
       "    </tr>\n",
       "    <tr>\n",
       "      <th>25%</th>\n",
       "      <td>0.000000</td>\n",
       "      <td>2.000000</td>\n",
       "      <td>20.125000</td>\n",
       "      <td>0.000000</td>\n",
       "      <td>0.000000</td>\n",
       "      <td>7.910400</td>\n",
       "    </tr>\n",
       "    <tr>\n",
       "      <th>50%</th>\n",
       "      <td>0.000000</td>\n",
       "      <td>3.000000</td>\n",
       "      <td>28.000000</td>\n",
       "      <td>0.000000</td>\n",
       "      <td>0.000000</td>\n",
       "      <td>14.454200</td>\n",
       "    </tr>\n",
       "    <tr>\n",
       "      <th>75%</th>\n",
       "      <td>1.000000</td>\n",
       "      <td>3.000000</td>\n",
       "      <td>38.000000</td>\n",
       "      <td>1.000000</td>\n",
       "      <td>0.000000</td>\n",
       "      <td>31.000000</td>\n",
       "    </tr>\n",
       "    <tr>\n",
       "      <th>max</th>\n",
       "      <td>1.000000</td>\n",
       "      <td>3.000000</td>\n",
       "      <td>80.000000</td>\n",
       "      <td>8.000000</td>\n",
       "      <td>6.000000</td>\n",
       "      <td>512.329200</td>\n",
       "    </tr>\n",
       "  </tbody>\n",
       "</table>\n",
       "</div>"
      ],
      "text/plain": [
       "         Survived      Pclass         Age       SibSp       Parch        Fare\n",
       "count  891.000000  891.000000  714.000000  891.000000  891.000000  891.000000\n",
       "mean     0.383838    2.308642   29.699118    0.523008    0.381594   32.204208\n",
       "std      0.486592    0.836071   14.526497    1.102743    0.806057   49.693429\n",
       "min      0.000000    1.000000    0.420000    0.000000    0.000000    0.000000\n",
       "25%      0.000000    2.000000   20.125000    0.000000    0.000000    7.910400\n",
       "50%      0.000000    3.000000   28.000000    0.000000    0.000000   14.454200\n",
       "75%      1.000000    3.000000   38.000000    1.000000    0.000000   31.000000\n",
       "max      1.000000    3.000000   80.000000    8.000000    6.000000  512.329200"
      ]
     },
     "execution_count": 7,
     "metadata": {},
     "output_type": "execute_result"
    }
   ],
   "source": [
    "df.describe()"
   ]
  },
  {
   "cell_type": "code",
   "execution_count": 8,
   "metadata": {
    "scrolled": true
   },
   "outputs": [
    {
     "data": {
      "text/html": [
       "<div>\n",
       "<style scoped>\n",
       "    .dataframe tbody tr th:only-of-type {\n",
       "        vertical-align: middle;\n",
       "    }\n",
       "\n",
       "    .dataframe tbody tr th {\n",
       "        vertical-align: top;\n",
       "    }\n",
       "\n",
       "    .dataframe thead th {\n",
       "        text-align: right;\n",
       "    }\n",
       "</style>\n",
       "<table border=\"1\" class=\"dataframe\">\n",
       "  <thead>\n",
       "    <tr style=\"text-align: right;\">\n",
       "      <th></th>\n",
       "      <th>Survived</th>\n",
       "      <th>Pclass</th>\n",
       "      <th>Age</th>\n",
       "      <th>SibSp</th>\n",
       "      <th>Parch</th>\n",
       "      <th>Fare</th>\n",
       "    </tr>\n",
       "    <tr>\n",
       "      <th>Age</th>\n",
       "      <th></th>\n",
       "      <th></th>\n",
       "      <th></th>\n",
       "      <th></th>\n",
       "      <th></th>\n",
       "      <th></th>\n",
       "    </tr>\n",
       "  </thead>\n",
       "  <tbody>\n",
       "    <tr>\n",
       "      <th>False</th>\n",
       "      <td>0.406162</td>\n",
       "      <td>2.236695</td>\n",
       "      <td>29.699118</td>\n",
       "      <td>0.512605</td>\n",
       "      <td>0.431373</td>\n",
       "      <td>34.694514</td>\n",
       "    </tr>\n",
       "    <tr>\n",
       "      <th>True</th>\n",
       "      <td>0.293785</td>\n",
       "      <td>2.598870</td>\n",
       "      <td>NaN</td>\n",
       "      <td>0.564972</td>\n",
       "      <td>0.180791</td>\n",
       "      <td>22.158567</td>\n",
       "    </tr>\n",
       "  </tbody>\n",
       "</table>\n",
       "</div>"
      ],
      "text/plain": [
       "       Survived    Pclass        Age     SibSp     Parch       Fare\n",
       "Age                                                                \n",
       "False  0.406162  2.236695  29.699118  0.512605  0.431373  34.694514\n",
       "True   0.293785  2.598870        NaN  0.564972  0.180791  22.158567"
      ]
     },
     "execution_count": 8,
     "metadata": {},
     "output_type": "execute_result"
    }
   ],
   "source": [
    "# exploring whether age  is missing at random or not\n",
    "df.groupby(df['Age'].isnull()).mean()"
   ]
  },
  {
   "cell_type": "markdown",
   "metadata": {},
   "source": []
  },
  {
   "cell_type": "code",
   "execution_count": 9,
   "metadata": {},
   "outputs": [
    {
     "name": "stderr",
     "output_type": "stream",
     "text": [
      "/home/kali/.local/lib/python3.8/site-packages/seaborn/distributions.py:2557: FutureWarning: `distplot` is a deprecated function and will be removed in a future version. Please adapt your code to use either `displot` (a figure-level function with similar flexibility) or `histplot` (an axes-level function for histograms).\n",
      "  warnings.warn(msg, FutureWarning)\n"
     ]
    },
    {
     "data": {
      "image/png": "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\n",
      "text/plain": [
       "<Figure size 432x288 with 1 Axes>"
      ]
     },
     "metadata": {
      "needs_background": "light"
     },
     "output_type": "display_data"
    },
    {
     "data": {
      "image/png": "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\n",
      "text/plain": [
       "<Figure size 432x288 with 1 Axes>"
      ]
     },
     "metadata": {
      "needs_background": "light"
     },
     "output_type": "display_data"
    }
   ],
   "source": [
    "for i in ['Age','Fare']:\n",
    "    died = list(df[df['Survived']==0][i].dropna())\n",
    "    survived = list(df[df['Survived']==1][i].dropna())\n",
    "    x_min = min(min(died),min(survived))\n",
    "    x_max = max(max(died),min(survived))\n",
    "    width = (x_max - x_min)/40\n",
    "    sns.distplot(died,color='r',kde=False,bins=np.arange(x_min,x_max,width))\n",
    "    sns.distplot(survived,color='g',kde=False,bins=np.arange(x_min,x_max,width))\n",
    "    plt.legend(['Did nor survived','Survived'])\n",
    "    plt.title(f'overlaid histogram for {i}')\n",
    "    plt.show()"
   ]
  },
  {
   "cell_type": "markdown",
   "metadata": {},
   "source": [
    "`Age` feature is not missing at random so filling null value with mean of `Age`"
   ]
  },
  {
   "cell_type": "code",
   "execution_count": 10,
   "metadata": {},
   "outputs": [],
   "source": [
    "df['Age'].fillna(df['Age'].mean(),inplace=True)"
   ]
  },
  {
   "cell_type": "code",
   "execution_count": 11,
   "metadata": {},
   "outputs": [
    {
     "data": {
      "text/html": [
       "<div>\n",
       "<style scoped>\n",
       "    .dataframe tbody tr th:only-of-type {\n",
       "        vertical-align: middle;\n",
       "    }\n",
       "\n",
       "    .dataframe tbody tr th {\n",
       "        vertical-align: top;\n",
       "    }\n",
       "\n",
       "    .dataframe thead th {\n",
       "        text-align: right;\n",
       "    }\n",
       "</style>\n",
       "<table border=\"1\" class=\"dataframe\">\n",
       "  <thead>\n",
       "    <tr style=\"text-align: right;\">\n",
       "      <th></th>\n",
       "      <th>Survived</th>\n",
       "      <th>Pclass</th>\n",
       "      <th>Sex</th>\n",
       "      <th>Age</th>\n",
       "      <th>SibSp</th>\n",
       "      <th>Parch</th>\n",
       "      <th>Fare</th>\n",
       "      <th>Cabin</th>\n",
       "    </tr>\n",
       "  </thead>\n",
       "  <tbody>\n",
       "    <tr>\n",
       "      <th>0</th>\n",
       "      <td>0</td>\n",
       "      <td>3</td>\n",
       "      <td>male</td>\n",
       "      <td>22.000000</td>\n",
       "      <td>1</td>\n",
       "      <td>0</td>\n",
       "      <td>7.2500</td>\n",
       "      <td>NaN</td>\n",
       "    </tr>\n",
       "    <tr>\n",
       "      <th>1</th>\n",
       "      <td>1</td>\n",
       "      <td>1</td>\n",
       "      <td>female</td>\n",
       "      <td>38.000000</td>\n",
       "      <td>1</td>\n",
       "      <td>0</td>\n",
       "      <td>71.2833</td>\n",
       "      <td>C85</td>\n",
       "    </tr>\n",
       "    <tr>\n",
       "      <th>2</th>\n",
       "      <td>1</td>\n",
       "      <td>3</td>\n",
       "      <td>female</td>\n",
       "      <td>26.000000</td>\n",
       "      <td>0</td>\n",
       "      <td>0</td>\n",
       "      <td>7.9250</td>\n",
       "      <td>NaN</td>\n",
       "    </tr>\n",
       "    <tr>\n",
       "      <th>3</th>\n",
       "      <td>1</td>\n",
       "      <td>1</td>\n",
       "      <td>female</td>\n",
       "      <td>35.000000</td>\n",
       "      <td>1</td>\n",
       "      <td>0</td>\n",
       "      <td>53.1000</td>\n",
       "      <td>C123</td>\n",
       "    </tr>\n",
       "    <tr>\n",
       "      <th>4</th>\n",
       "      <td>0</td>\n",
       "      <td>3</td>\n",
       "      <td>male</td>\n",
       "      <td>35.000000</td>\n",
       "      <td>0</td>\n",
       "      <td>0</td>\n",
       "      <td>8.0500</td>\n",
       "      <td>NaN</td>\n",
       "    </tr>\n",
       "    <tr>\n",
       "      <th>5</th>\n",
       "      <td>0</td>\n",
       "      <td>3</td>\n",
       "      <td>male</td>\n",
       "      <td>29.699118</td>\n",
       "      <td>0</td>\n",
       "      <td>0</td>\n",
       "      <td>8.4583</td>\n",
       "      <td>NaN</td>\n",
       "    </tr>\n",
       "    <tr>\n",
       "      <th>6</th>\n",
       "      <td>0</td>\n",
       "      <td>1</td>\n",
       "      <td>male</td>\n",
       "      <td>54.000000</td>\n",
       "      <td>0</td>\n",
       "      <td>0</td>\n",
       "      <td>51.8625</td>\n",
       "      <td>E46</td>\n",
       "    </tr>\n",
       "    <tr>\n",
       "      <th>7</th>\n",
       "      <td>0</td>\n",
       "      <td>3</td>\n",
       "      <td>male</td>\n",
       "      <td>2.000000</td>\n",
       "      <td>3</td>\n",
       "      <td>1</td>\n",
       "      <td>21.0750</td>\n",
       "      <td>NaN</td>\n",
       "    </tr>\n",
       "    <tr>\n",
       "      <th>8</th>\n",
       "      <td>1</td>\n",
       "      <td>3</td>\n",
       "      <td>female</td>\n",
       "      <td>27.000000</td>\n",
       "      <td>0</td>\n",
       "      <td>2</td>\n",
       "      <td>11.1333</td>\n",
       "      <td>NaN</td>\n",
       "    </tr>\n",
       "    <tr>\n",
       "      <th>9</th>\n",
       "      <td>1</td>\n",
       "      <td>2</td>\n",
       "      <td>female</td>\n",
       "      <td>14.000000</td>\n",
       "      <td>1</td>\n",
       "      <td>0</td>\n",
       "      <td>30.0708</td>\n",
       "      <td>NaN</td>\n",
       "    </tr>\n",
       "  </tbody>\n",
       "</table>\n",
       "</div>"
      ],
      "text/plain": [
       "   Survived  Pclass     Sex        Age  SibSp  Parch     Fare Cabin\n",
       "0         0       3    male  22.000000      1      0   7.2500   NaN\n",
       "1         1       1  female  38.000000      1      0  71.2833   C85\n",
       "2         1       3  female  26.000000      0      0   7.9250   NaN\n",
       "3         1       1  female  35.000000      1      0  53.1000  C123\n",
       "4         0       3    male  35.000000      0      0   8.0500   NaN\n",
       "5         0       3    male  29.699118      0      0   8.4583   NaN\n",
       "6         0       1    male  54.000000      0      0  51.8625   E46\n",
       "7         0       3    male   2.000000      3      1  21.0750   NaN\n",
       "8         1       3  female  27.000000      0      2  11.1333   NaN\n",
       "9         1       2  female  14.000000      1      0  30.0708   NaN"
      ]
     },
     "execution_count": 11,
     "metadata": {},
     "output_type": "execute_result"
    }
   ],
   "source": [
    "df.head(10)"
   ]
  },
  {
   "cell_type": "code",
   "execution_count": 12,
   "metadata": {},
   "outputs": [
    {
     "data": {
      "text/plain": [
       "<Figure size 432x288 with 0 Axes>"
      ]
     },
     "metadata": {},
     "output_type": "display_data"
    },
    {
     "data": {
      "image/png": "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\n",
      "text/plain": [
       "<Figure size 720x360 with 1 Axes>"
      ]
     },
     "metadata": {
      "needs_background": "light"
     },
     "output_type": "display_data"
    },
    {
     "data": {
      "image/png": "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\n",
      "text/plain": [
       "<Figure size 720x360 with 1 Axes>"
      ]
     },
     "metadata": {
      "needs_background": "light"
     },
     "output_type": "display_data"
    },
    {
     "data": {
      "image/png": "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\n",
      "text/plain": [
       "<Figure size 720x360 with 1 Axes>"
      ]
     },
     "metadata": {
      "needs_background": "light"
     },
     "output_type": "display_data"
    }
   ],
   "source": [
    "for i,col in enumerate(['Pclass','Parch','SibSp']):\n",
    "    plt.figure(i)\n",
    "    sns.catplot(x=col,y='Survived',data=df,kind='point',aspect=2)"
   ]
  },
  {
   "cell_type": "markdown",
   "metadata": {},
   "source": [
    "`Parch` and `SibSp` has equal relationship more number of count are more likely to died\n",
    "- creating a feature named `Fam_cnt` and adding count of both `Parch` and `SibSp`"
   ]
  },
  {
   "cell_type": "code",
   "execution_count": 13,
   "metadata": {},
   "outputs": [],
   "source": [
    "df['Fam_cnt'] = df['Parch'] + df['SibSp']"
   ]
  },
  {
   "cell_type": "code",
   "execution_count": 14,
   "metadata": {},
   "outputs": [
    {
     "data": {
      "text/html": [
       "<div>\n",
       "<style scoped>\n",
       "    .dataframe tbody tr th:only-of-type {\n",
       "        vertical-align: middle;\n",
       "    }\n",
       "\n",
       "    .dataframe tbody tr th {\n",
       "        vertical-align: top;\n",
       "    }\n",
       "\n",
       "    .dataframe thead th {\n",
       "        text-align: right;\n",
       "    }\n",
       "</style>\n",
       "<table border=\"1\" class=\"dataframe\">\n",
       "  <thead>\n",
       "    <tr style=\"text-align: right;\">\n",
       "      <th></th>\n",
       "      <th>Survived</th>\n",
       "      <th>Pclass</th>\n",
       "      <th>Sex</th>\n",
       "      <th>Age</th>\n",
       "      <th>SibSp</th>\n",
       "      <th>Parch</th>\n",
       "      <th>Fare</th>\n",
       "      <th>Cabin</th>\n",
       "      <th>Fam_cnt</th>\n",
       "    </tr>\n",
       "  </thead>\n",
       "  <tbody>\n",
       "    <tr>\n",
       "      <th>0</th>\n",
       "      <td>0</td>\n",
       "      <td>3</td>\n",
       "      <td>male</td>\n",
       "      <td>22.0</td>\n",
       "      <td>1</td>\n",
       "      <td>0</td>\n",
       "      <td>7.2500</td>\n",
       "      <td>NaN</td>\n",
       "      <td>1</td>\n",
       "    </tr>\n",
       "    <tr>\n",
       "      <th>1</th>\n",
       "      <td>1</td>\n",
       "      <td>1</td>\n",
       "      <td>female</td>\n",
       "      <td>38.0</td>\n",
       "      <td>1</td>\n",
       "      <td>0</td>\n",
       "      <td>71.2833</td>\n",
       "      <td>C85</td>\n",
       "      <td>1</td>\n",
       "    </tr>\n",
       "    <tr>\n",
       "      <th>2</th>\n",
       "      <td>1</td>\n",
       "      <td>3</td>\n",
       "      <td>female</td>\n",
       "      <td>26.0</td>\n",
       "      <td>0</td>\n",
       "      <td>0</td>\n",
       "      <td>7.9250</td>\n",
       "      <td>NaN</td>\n",
       "      <td>0</td>\n",
       "    </tr>\n",
       "    <tr>\n",
       "      <th>3</th>\n",
       "      <td>1</td>\n",
       "      <td>1</td>\n",
       "      <td>female</td>\n",
       "      <td>35.0</td>\n",
       "      <td>1</td>\n",
       "      <td>0</td>\n",
       "      <td>53.1000</td>\n",
       "      <td>C123</td>\n",
       "      <td>1</td>\n",
       "    </tr>\n",
       "    <tr>\n",
       "      <th>4</th>\n",
       "      <td>0</td>\n",
       "      <td>3</td>\n",
       "      <td>male</td>\n",
       "      <td>35.0</td>\n",
       "      <td>0</td>\n",
       "      <td>0</td>\n",
       "      <td>8.0500</td>\n",
       "      <td>NaN</td>\n",
       "      <td>0</td>\n",
       "    </tr>\n",
       "  </tbody>\n",
       "</table>\n",
       "</div>"
      ],
      "text/plain": [
       "   Survived  Pclass     Sex   Age  SibSp  Parch     Fare Cabin  Fam_cnt\n",
       "0         0       3    male  22.0      1      0   7.2500   NaN        1\n",
       "1         1       1  female  38.0      1      0  71.2833   C85        1\n",
       "2         1       3  female  26.0      0      0   7.9250   NaN        0\n",
       "3         1       1  female  35.0      1      0  53.1000  C123        1\n",
       "4         0       3    male  35.0      0      0   8.0500   NaN        0"
      ]
     },
     "execution_count": 14,
     "metadata": {},
     "output_type": "execute_result"
    }
   ],
   "source": [
    "df.head()"
   ]
  },
  {
   "cell_type": "code",
   "execution_count": 15,
   "metadata": {},
   "outputs": [],
   "source": [
    "df.drop(['Parch','SibSp'],axis=1,inplace=True)"
   ]
  },
  {
   "cell_type": "code",
   "execution_count": 16,
   "metadata": {},
   "outputs": [
    {
     "data": {
      "text/html": [
       "<div>\n",
       "<style scoped>\n",
       "    .dataframe tbody tr th:only-of-type {\n",
       "        vertical-align: middle;\n",
       "    }\n",
       "\n",
       "    .dataframe tbody tr th {\n",
       "        vertical-align: top;\n",
       "    }\n",
       "\n",
       "    .dataframe thead th {\n",
       "        text-align: right;\n",
       "    }\n",
       "</style>\n",
       "<table border=\"1\" class=\"dataframe\">\n",
       "  <thead>\n",
       "    <tr style=\"text-align: right;\">\n",
       "      <th></th>\n",
       "      <th>Survived</th>\n",
       "      <th>Pclass</th>\n",
       "      <th>Sex</th>\n",
       "      <th>Age</th>\n",
       "      <th>Fare</th>\n",
       "      <th>Cabin</th>\n",
       "      <th>Fam_cnt</th>\n",
       "    </tr>\n",
       "  </thead>\n",
       "  <tbody>\n",
       "    <tr>\n",
       "      <th>0</th>\n",
       "      <td>0</td>\n",
       "      <td>3</td>\n",
       "      <td>male</td>\n",
       "      <td>22.0</td>\n",
       "      <td>7.2500</td>\n",
       "      <td>NaN</td>\n",
       "      <td>1</td>\n",
       "    </tr>\n",
       "    <tr>\n",
       "      <th>1</th>\n",
       "      <td>1</td>\n",
       "      <td>1</td>\n",
       "      <td>female</td>\n",
       "      <td>38.0</td>\n",
       "      <td>71.2833</td>\n",
       "      <td>C85</td>\n",
       "      <td>1</td>\n",
       "    </tr>\n",
       "    <tr>\n",
       "      <th>2</th>\n",
       "      <td>1</td>\n",
       "      <td>3</td>\n",
       "      <td>female</td>\n",
       "      <td>26.0</td>\n",
       "      <td>7.9250</td>\n",
       "      <td>NaN</td>\n",
       "      <td>0</td>\n",
       "    </tr>\n",
       "    <tr>\n",
       "      <th>3</th>\n",
       "      <td>1</td>\n",
       "      <td>1</td>\n",
       "      <td>female</td>\n",
       "      <td>35.0</td>\n",
       "      <td>53.1000</td>\n",
       "      <td>C123</td>\n",
       "      <td>1</td>\n",
       "    </tr>\n",
       "    <tr>\n",
       "      <th>4</th>\n",
       "      <td>0</td>\n",
       "      <td>3</td>\n",
       "      <td>male</td>\n",
       "      <td>35.0</td>\n",
       "      <td>8.0500</td>\n",
       "      <td>NaN</td>\n",
       "      <td>0</td>\n",
       "    </tr>\n",
       "  </tbody>\n",
       "</table>\n",
       "</div>"
      ],
      "text/plain": [
       "   Survived  Pclass     Sex   Age     Fare Cabin  Fam_cnt\n",
       "0         0       3    male  22.0   7.2500   NaN        1\n",
       "1         1       1  female  38.0  71.2833   C85        1\n",
       "2         1       3  female  26.0   7.9250   NaN        0\n",
       "3         1       1  female  35.0  53.1000  C123        1\n",
       "4         0       3    male  35.0   8.0500   NaN        0"
      ]
     },
     "execution_count": 16,
     "metadata": {},
     "output_type": "execute_result"
    }
   ],
   "source": [
    "df.head()"
   ]
  },
  {
   "cell_type": "markdown",
   "metadata": {},
   "source": [
    "# Cleaning and Exploring Categorical Feature"
   ]
  },
  {
   "cell_type": "code",
   "execution_count": 17,
   "metadata": {},
   "outputs": [
    {
     "name": "stdout",
     "output_type": "stream",
     "text": [
      "<class 'pandas.core.frame.DataFrame'>\n",
      "RangeIndex: 891 entries, 0 to 890\n",
      "Data columns (total 7 columns):\n",
      " #   Column    Non-Null Count  Dtype  \n",
      "---  ------    --------------  -----  \n",
      " 0   Survived  891 non-null    int64  \n",
      " 1   Pclass    891 non-null    int64  \n",
      " 2   Sex       891 non-null    object \n",
      " 3   Age       891 non-null    float64\n",
      " 4   Fare      891 non-null    float64\n",
      " 5   Cabin     204 non-null    object \n",
      " 6   Fam_cnt   891 non-null    int64  \n",
      "dtypes: float64(2), int64(3), object(2)\n",
      "memory usage: 48.9+ KB\n"
     ]
    }
   ],
   "source": [
    "df.info()"
   ]
  },
  {
   "cell_type": "code",
   "execution_count": 18,
   "metadata": {},
   "outputs": [
    {
     "data": {
      "text/html": [
       "<div>\n",
       "<style scoped>\n",
       "    .dataframe tbody tr th:only-of-type {\n",
       "        vertical-align: middle;\n",
       "    }\n",
       "\n",
       "    .dataframe tbody tr th {\n",
       "        vertical-align: top;\n",
       "    }\n",
       "\n",
       "    .dataframe thead th {\n",
       "        text-align: right;\n",
       "    }\n",
       "</style>\n",
       "<table border=\"1\" class=\"dataframe\">\n",
       "  <thead>\n",
       "    <tr style=\"text-align: right;\">\n",
       "      <th></th>\n",
       "      <th>Survived</th>\n",
       "      <th>Pclass</th>\n",
       "      <th>Age</th>\n",
       "      <th>Fare</th>\n",
       "      <th>Fam_cnt</th>\n",
       "    </tr>\n",
       "    <tr>\n",
       "      <th>Cabin</th>\n",
       "      <th></th>\n",
       "      <th></th>\n",
       "      <th></th>\n",
       "      <th></th>\n",
       "      <th></th>\n",
       "    </tr>\n",
       "  </thead>\n",
       "  <tbody>\n",
       "    <tr>\n",
       "      <th>False</th>\n",
       "      <td>0.666667</td>\n",
       "      <td>1.196078</td>\n",
       "      <td>35.258349</td>\n",
       "      <td>76.141504</td>\n",
       "      <td>0.877451</td>\n",
       "    </tr>\n",
       "    <tr>\n",
       "      <th>True</th>\n",
       "      <td>0.299854</td>\n",
       "      <td>2.639010</td>\n",
       "      <td>28.048341</td>\n",
       "      <td>19.157325</td>\n",
       "      <td>0.912664</td>\n",
       "    </tr>\n",
       "  </tbody>\n",
       "</table>\n",
       "</div>"
      ],
      "text/plain": [
       "       Survived    Pclass        Age       Fare   Fam_cnt\n",
       "Cabin                                                    \n",
       "False  0.666667  1.196078  35.258349  76.141504  0.877451\n",
       "True   0.299854  2.639010  28.048341  19.157325  0.912664"
      ]
     },
     "execution_count": 18,
     "metadata": {},
     "output_type": "execute_result"
    }
   ],
   "source": [
    "# check whether cabin is missing  as random or not\n",
    "df.groupby(df['Cabin'].isnull()).mean()"
   ]
  },
  {
   "cell_type": "markdown",
   "metadata": {},
   "source": [
    "`cabin` is not missing at random maybe people who had cabin they are likely to survive\n",
    "- creating a feature `cabin_ind` 0 for null and 1 who had cabin."
   ]
  },
  {
   "cell_type": "code",
   "execution_count": 19,
   "metadata": {},
   "outputs": [],
   "source": [
    "df['cabin_ind'] = np.where(df['Cabin'].isnull(),0,1)"
   ]
  },
  {
   "cell_type": "code",
   "execution_count": 20,
   "metadata": {},
   "outputs": [],
   "source": [
    "df.drop('Cabin',axis=1,inplace=True)"
   ]
  },
  {
   "cell_type": "code",
   "execution_count": 21,
   "metadata": {
    "scrolled": true
   },
   "outputs": [
    {
     "data": {
      "text/html": [
       "<div>\n",
       "<style scoped>\n",
       "    .dataframe tbody tr th:only-of-type {\n",
       "        vertical-align: middle;\n",
       "    }\n",
       "\n",
       "    .dataframe tbody tr th {\n",
       "        vertical-align: top;\n",
       "    }\n",
       "\n",
       "    .dataframe thead th {\n",
       "        text-align: right;\n",
       "    }\n",
       "</style>\n",
       "<table border=\"1\" class=\"dataframe\">\n",
       "  <thead>\n",
       "    <tr style=\"text-align: right;\">\n",
       "      <th></th>\n",
       "      <th>Survived</th>\n",
       "      <th>Pclass</th>\n",
       "      <th>Sex</th>\n",
       "      <th>Age</th>\n",
       "      <th>Fare</th>\n",
       "      <th>Fam_cnt</th>\n",
       "      <th>cabin_ind</th>\n",
       "    </tr>\n",
       "  </thead>\n",
       "  <tbody>\n",
       "    <tr>\n",
       "      <th>0</th>\n",
       "      <td>0</td>\n",
       "      <td>3</td>\n",
       "      <td>male</td>\n",
       "      <td>22.0</td>\n",
       "      <td>7.2500</td>\n",
       "      <td>1</td>\n",
       "      <td>0</td>\n",
       "    </tr>\n",
       "    <tr>\n",
       "      <th>1</th>\n",
       "      <td>1</td>\n",
       "      <td>1</td>\n",
       "      <td>female</td>\n",
       "      <td>38.0</td>\n",
       "      <td>71.2833</td>\n",
       "      <td>1</td>\n",
       "      <td>1</td>\n",
       "    </tr>\n",
       "    <tr>\n",
       "      <th>2</th>\n",
       "      <td>1</td>\n",
       "      <td>3</td>\n",
       "      <td>female</td>\n",
       "      <td>26.0</td>\n",
       "      <td>7.9250</td>\n",
       "      <td>0</td>\n",
       "      <td>0</td>\n",
       "    </tr>\n",
       "    <tr>\n",
       "      <th>3</th>\n",
       "      <td>1</td>\n",
       "      <td>1</td>\n",
       "      <td>female</td>\n",
       "      <td>35.0</td>\n",
       "      <td>53.1000</td>\n",
       "      <td>1</td>\n",
       "      <td>1</td>\n",
       "    </tr>\n",
       "    <tr>\n",
       "      <th>4</th>\n",
       "      <td>0</td>\n",
       "      <td>3</td>\n",
       "      <td>male</td>\n",
       "      <td>35.0</td>\n",
       "      <td>8.0500</td>\n",
       "      <td>0</td>\n",
       "      <td>0</td>\n",
       "    </tr>\n",
       "  </tbody>\n",
       "</table>\n",
       "</div>"
      ],
      "text/plain": [
       "   Survived  Pclass     Sex   Age     Fare  Fam_cnt  cabin_ind\n",
       "0         0       3    male  22.0   7.2500        1          0\n",
       "1         1       1  female  38.0  71.2833        1          1\n",
       "2         1       3  female  26.0   7.9250        0          0\n",
       "3         1       1  female  35.0  53.1000        1          1\n",
       "4         0       3    male  35.0   8.0500        0          0"
      ]
     },
     "execution_count": 21,
     "metadata": {},
     "output_type": "execute_result"
    }
   ],
   "source": [
    "df.head()"
   ]
  },
  {
   "cell_type": "code",
   "execution_count": 22,
   "metadata": {},
   "outputs": [
    {
     "data": {
      "text/plain": [
       "<Figure size 432x288 with 0 Axes>"
      ]
     },
     "metadata": {},
     "output_type": "display_data"
    },
    {
     "data": {
      "image/png": "iVBORw0KGgoAAAANSUhEUgAAAtYAAAFvCAYAAABuPYzmAAAABHNCSVQICAgIfAhkiAAAAAlwSFlzAAALEgAACxIB0t1+/AAAADh0RVh0U29mdHdhcmUAbWF0cGxvdGxpYiB2ZXJzaW9uMy4yLjIsIGh0dHA6Ly9tYXRwbG90bGliLm9yZy+WH4yJAAAgAElEQVR4nO3deXhV9bn28fvJHEII8zxDmEOixnmeUauIQrDj6annWHtqW0EckFq14gQKdrDHclrbt/acQhgER3BG6whqQiDMYQpzGAKZk53f+0fiJsUIAdbOyk6+n+viMvvZaye3vZrkdrH2esw5JwAAAACnJsLvAAAAAEBzQLEGAAAAPECxBgAAADxAsQYAAAA8QLEGAAAAPBDld4ATNWrUKLd48WK/YwAAAKDlsvqGYXfGuqCgwO8IAAAAwNeEXbEGAAAAmiKKNQAAAOABijUAAADgAYo1AAAA4AGKNQAAAOABijUAAADgAYo1AAAA4AGKNQAAAOABijUAAADgAYo1AAAA4AGKNQAAAOABijUAAADggSi/AwAAAHzl+3/+VPkHStWzXbxeuPVsv+MAJ4RiDQAAmoz8A6XaVFDsdwzgpHApCAAAAOABijUAAADgAYo1AAAA4AGKNQAAAOABijUAAADgAYo1AAAA4AGKNQAAAOABijUAAADgAYo1AAAA4AGKNQAAAOABijUAAADgAYo1AAAA4IGQFmszG2Vma81sg5ndV8/zd5tZVu2flWYWMLP2ocwEAAAAhELIirWZRUp6VtI1koZJ+raZDat7jHNuunMuzTmXJmmypKXOuf2hygQAAACESijPWJ8laYNzLs85VyFptqTRxzj+25L+EcI8AAAAQMiEslj3kLStzuP82tnXmFkrSaMkzf+G528zs+Vmtnzv3r2eBwUAAABOVSiLtdUzc99w7PWSPvymy0Ccc7Occ+nOufROnTp5FhAAAADwSiiLdb6kXnUe95S04xuOvUVcBgIAAIAwFspivUxSspn1M7MY1ZTnl44+yMySJF0saVEIswAAAAAhFRWqT+ycqzKzOyQtkRQp6Xnn3Cozu732+edqDx0j6Q3nXHGosgAAAAChFrJiLUnOudckvXbU7LmjHv9V0l9DmQMAAAAINTYvAgAAAB6gWAMAAAAeoFgDAAAAHqBYAwAAAB6gWAMAAAAeoFgDAAAAHqBYAwAAAB6gWAMAAAAeoFgDAAAAHqBYAwAAAB6gWAMAAAAeiPI7AAAAwLb9Jfr7p1u0q7BUklRUXqWqQLWiIjkHiPDB/1sBAICvFq/cpcuefk9/XJqn0spqSdLew+X63p8/VUlFlc/pgIajWAMAAN/sOVymX8z+UpUB97XnPsnbr6ffWOdDKuDkUKwBAIBv5i7PV3lV9Tc+P2fZNpVVBhoxEXDyKNYAAMA3G/cUHfP5ovIq7TlU3khpgFNDsQYAAL6JPs6bE82kpPjoRkoDnBqKNQAA8MWirO16JWfHMY+5bHBnJbWiWCM8cLs9AADQqA6WVOiXC1fqlRU7j3lc2/hoTb52aCOlAk4dxRoAADSapev26p552dpde920mfSj8/upZ7t4vfDJFuXtLZYkJcRGauFPz1ffjgl+xgVOCMUaAACEXGlFQI+/vlp/+3hLcNY9KU5PZaTqvAEdJUn/fn4/XTz9XW3ZV6LOiXGUaoQdijUAAAip7G0HNWFOlvIKioOzm07voYduGK42cf96/XSEWWPHAzxDsQYAACFRGajWs+9u0O/e2aBAdc0CmLatovXYmBRdm9LN53SA9yjWAADAcxv3FmninCxl5xcGZ5cM7qRpN49U5zZxPiYDQodiDQAAPOOc0wufbNFjr61WWWXNRsX46Ej98ltD9Z2zesu41APNGMUaAAB4YvehMt09b4XeX7c3ODutd1vNyEhTP96IiBaAYg0AAE7ZKyt2aMqLK1VYWilJioow/eLyZP3kkgGKOs52RaC5oFgDAICTVlhaqQcXrdTCrCMbFAd0StAz409TSs8kH5MBjY9iDQAATsqHGwo0aW62dhaWBWc/PK+v7rtmiOKiI31MBviDYg0AAE5IWWVATy5eo798uDk465YUp+ljU3VBckf/ggE+o1gDAIAGy8kv1ITMLG3YUxScjU7rrl/fMEJJraKP8Uqg+aNYAwCA46oKVOu5pRv1zFvrVVW77CUpPlpTbxyh61O7+5wOaBoo1gAA4Jg2FxRrQmaWvtx6MDi7MLmjpo9NVdcklr0AX6FYAwCAejnn9H+fbdXUV1artDIgSYqLjtD91w7V98/pw7IX4CgUawAA8DV7DpXp3vkr9O7aI8teUnsmacb4NA3o1NrHZEDTRbEGAAD/4vWcnbr/xRwdKKlZ9hIZYfrZZQP100sHKpplL8A3olgDAABJ0qGySj300iot+GJ7cNa/Y4JmjE9TWq+2PiYDwgPFGgAA6OON+zRpbra2HywNzn5wbh9Nvmao4mNY9gI0BMUaAIAWrKwyoKeWrNWfP9wkV3MXPXVOjNX0cam6eFAnf8MBYYZiDQBAC7VqR6EmzMnSut1Hlr1cN7Kbpo4eoXYJMT4mA8ITxRoAgBYmUO30x/c3auab61QZqDlNnRgXpak3jtANqd25jR5wkijWAAC0IFv3lWhiZpaWbzkQnJ0/sIOmj01V97bxPiYDwh/FGgCAFsA5p8zl2/Trl3NVXFGz7CU2KkL3jhqiH57XVxERnKUGThXFGgCAZm7v4XJNXrBCb63eE5yN6NFGMzPSlNwl0cdkQPNCsQYAoBlbsmqX7l+Qo33FFZKkCJN+eulA/eyyZMVEsewF8BLFGgCAZuhwWaUeeSVXmcvzg7O+HVrp6Yw0ndGnnY/JgOaLYg0AQDPz2ab9mpiZpfwDR5a9fOfs3ppy7VAlxPKrHwgVvrsAAGgmyqsCmvHmOs16Py+47KVj61hNG5uiy4Z08Tcc0AJQrAEAaAbW7DqkO2dnac2uw8HZqOFd9dhNKWrPshegUVCsAQAIY4Fqpz99kKen31inikC1JCkxNkoP3TBcN53eg2UvQCOiWAMAEKa27S/RXXOz9dmm/cHZOf3b66lxqerZrpWPyYCWiWINAECYcc5p3uf5evjlXBWVV0mSYiIjdM+owfrR+f1Y9gL4hGINAEAY2VdUrvtfzNGSVbuDs6Hd2uiZ8Wka3JVlL4CfKNYAAISJt1fv1r3zc1RQVC5JMpNuv3iA7rwiWbFRkT6nA0CxBgCgiSsur9LUV3P1j8+2BWe92sdrRkaazuzb3sdkAOoKabE2s1GSfiMpUtKfnHNP1HPMJZKekRQtqcA5d3EoMwEAEE4+37JfE+Zka+v+kuDsljN76ZffGqbWLHsBmpSQfUeaWaSkZyVdKSlf0jIze8k5l1vnmLaS/iBplHNuq5l1DlUeAADCSUVVtX7z9jr993sbVR1c9hKjx28aqSuHsewFaIpC+Z+6Z0na4JzLkyQzmy1ptKTcOsd8R9IC59xWSXLO7QlhHgAAwsK63Yc1YU6WVu04FJxdOayLHr8pRR1bx/qYDMCxhLJY95C0rc7jfElnH3XMIEnRZvaepERJv3HO/e3oT2Rmt0m6TZJ69+4dkrAAAPitutrpLx9t1pOL16iiqmbZS0JMpB68frjGpfdk2QvQxIWyWNf33e/q+fpnSLpcUrykj83sE+fcun95kXOzJM2SpPT09KM/BwAAYW/7wVLdPTdbH23cF5yd1be9ns5IVa/2LHsBwkEoi3W+pF51HveUtKOeYwqcc8WSis3sfUmpktYJAIAWwDmnhVnb9auFq3S4dtlLdKTprqsG6z8v7K/IFrbspWe7+H/5JxBOQlmsl0lKNrN+krZLukU111TXtUjS780sSlKMai4VmRnCTAAANBkHiis0ZWGOXsvZFZwN6ZqoGRlpGta9jY/J/PPCrUdfNQqEj5AVa+dclZndIWmJam6397xzbpWZ3V77/HPOudVmtljSCknVqrkl38pQZQIAoKl4b+0e3TNvhfYcPrLs5bYL+2viVYNY9gKEKXMuvC5ZTk9Pd8uXL/c7BgAAJ6WkokqPvbZaf/9ka3DWo228ns5I1Tn9O/iYDMAJqPcaLe4sDwBAI/ly6wFNzMzWpoLi4GzsGT314PXDlBgX7WMyAF6gWAMAEGKVgWr97u31eva9jQrUbntpnxCjx8akaNSIrj6nA+AVijUAACG0YU+RJszJUs72wuDs8iGd9fjNKeqcGOdjMgBeo1gDABAC1dVOf/t4sx5/fY3Ka5e9tIqJ1APfGqZbzuzFshegGaJYAwDgsV2FZbp7XrY+WF8QnJ3eu61mjk9Tnw4JPiYDEEoUawAAPLQoa7seWLhSh8pqlr1ERZgmXDlIP76ov6IiI3xOByCUKNYAAHjgYEmFHli0Si9nH1kynNy5tWaOT9OIHkk+JgPQWCjWAACcog/W79Wkudnafag8OLv1gn66++rBiotm2QvQUlCsAQA4SaUVAT25eI3++tHm4Kx7UpyeGpeq8wZ29C8YAF9QrAEAOAkr8g/qzjlZytt7ZNnLmNN66KEbhispnmUvQEtEsQYA4ARUBar17Lsb9bt31quqdtlL21bRevTGFF03spvP6QD4iWINAEAD5e0t0oTMbGVvOxicXTyok6aNHakubVj2ArR0FGsAAI7DOae/f7pVj76aq7LKmmUv8dGRmnLdUH337N4sewEgiWINAMAx7T5UpnvmrdDSdXuDs9RebTUzI1X9O7X2MRmApoZiDQDAN3h1xU5NWZijgyWVkqTICNMvLk/Wf10ygGUvAL6GYg0AwFEKSyv14KKVWph1ZNlL/04JemZ8mkb2bOtjMgBNGcUaAIA6PtpQoLvmZmtnYVlw9sPz+ureUUMUH8OyFwDfjGINAICkssqApi1eq+c/3BScdW0Tp+njRurC5E4+JgMQLijWAIAWb+X2Qk2Yk6X1e4qCsxtSu+uR0SOU1IplLwAahmINAGixqgLV+uP7eZr55rrgspc2cVGaOiZFN6R29zkdgHBDsQYAtEibC4o1MTNLX2w9suzlwuSOmjZ2pLolxfuYDEC4olgDAFoU55z+8dk2TX01VyUVAUlSbFSEJl8zRD84t68iIlj2AuDkUKwBAC3GnsNlum9+jt5Zsyc4G9kzSTMy0jSwM8teAJwaijUAoEVYvHKnJi/I0YE6y15+eulA/eyygYpm2QsAD1CsAQDN2qGySj38Uq7mf5EfnPXrmKAZGak6rXc7H5MBaG4o1gCAZuuTvH26KzNb2w+WBmffO6e37r92qFrF8CsQgLf4qQIAaHbKKgOa8eY6/c8HeXI1d9FT58RYTRs7UpcM7uxvOADNFsUaANCs5O44pAlzsrR29+Hg7LqUbpp64wi1S4jxMRmA5o5iDQBoFgLVTrPez9OMN9eqMlBzmjoxLkqPjB6h0WndZcZt9ACEFsUaABD2tu0v0cTMLC3bfCA4O29ABz01LlXd27LsBUDjoFgDAMKWc05zl+fr4ZdXqbh22UtMVITuHTVE/34ey14ANC6KNQAgLBUUleu++Tl6a/Xu4Gx49zaaOT5Ng7ok+pgMQEtFsQYAhJ03c3frvvkrtK+4QpIUYdJ/XTJQP788WTFRLHsB4A+KNQAgbBSVV+mRl3M1Z/m24KxPh1aakZGqM/q09zEZAFCsAQBhYtnm/ZqYmaVt+48se/n2Wb31y+uGKiGWX2cA/MdPIgBAk1ZRVa2Zb63Tc0s3Bpe9dGwdqydvTtHlQ7v4Gw4A6qBYAwCarLW7DuvOOVlavfNQcHb18C56bEyKOrSO9TEZAHwdxRoA0ORUVzv9+Z+bNH3JWlUEqiVJrWOj9NANw3Xz6T1Y9gKgSaJYAwCalPwDJborM1ufbtofnJ3Vr72eHpeqXu1b+ZgMAI6NYg0AaBKcc1rwxXY99NIqHS6vkiTFREZo0tWDdOsF/RXJshcATRzFGgDgu/3FFbp/QY4Wr9oVnA3pmqhnbknTkK5tfEwGAA1HsQYA+OqdNbt1z7wcFRSVS5LMpB9fNEATrkxWbFSkz+kAoOGOWazN7LAk903PO+c4jQAAOCnF5VWa+upq/eOzrcFZz3bxmpGRprP6sewFQPg5ZrF2ziVKkpn9WtIuSS9IMknflZQY8nQAgGbp8y0HNDEzS1v2lQRn49N76YHrh6k1y14AhKmG/vS62jl3dp3H/21mn0qaFoJMAIBmqqKqWr99e73+8N4GVdf+fWiHhBg9flOKrhre1d9wAHCKGlqsA2b2XUmzVXNpyLclBUKWCgDQ7KzffVgTMrO0cvuRZS9XDO2iJ25OUUeWvQBoBhparL8j6Te1f5ykD2tnAAAcU3W1018+2qwnF69RRVXNspeEmEj96vphykjvxbIXAM1Gg4q1c26zpNGhjQIAaG52HCzVpLnZ+mjjvuAsvU87zchIU+8OLHsB0Lw0qFib2SBJ/y2pi3NuhJmNlHSDc25qSNMBAMKSc06LsnbogUUrdbisZtlLdKRp4pWDddtFLHsB0Dw19FKQ/5F0t6Q/SpJzboWZ/Z8kijUA4F8cLKnQlIUr9eqKncHZ4C6JmjE+VcO7J/mYDABCq6HFupVz7rOjroOrCkEeAEAYW7pur+6em609h48se/mPC/rprqsGKy6aZS8AmreGFusCMxug2mUxZjZW0s5jvwQA0FKUVFTp8dfW6IVPtgRnPdrG66lxqTp3QAcfkwFA42losf6ppFmShpjZdkmbVLMkBgDQwn259YAmZmZrU0FxcHbz6T314A3D1CYu2sdkANC4GlqstzjnrjCzBEkRzrnDoQwFAGj6KgPV+v07G/T7dzcoULvtpV2raD1+U4pGjejmczoAaHwNLdabzGyxpDmS3glhHgBAGNi4t0gT5mRpRX5hcHbp4E56cuxIdU6M8zEZAPgnooHHDZb0lmouCdlkZr83swuO9yIzG2Vma81sg5ndV8/zl5hZoZll1f751YnFBwA0Juec/t9Hm3Xdbz8Ilur46Eg9NiZFz//wTEo1gBatoQtiSiVlSso0s3aq2cC4VNI3vsXbzCIlPSvpSkn5kpaZ2UvOudyjDv3AOfetkwkPAGg8uwrLdPe8bH2wviA4O613W83MSFPfjgk+JgOApqGhl4LIzC6WNF7SNZKWSco4zkvOkrTBOZdX+/rZqtneeHSxBgA0cS9n79AvF65UYWmlJCkqwnTnFcm6/eIBiops6F9+AkDz1tDNi5skZanmrPXdzrni47xEknpI2lbncb6ks+s57lwzy5a0Q9Ik59yqer7+bZJuk6TevXs3JDIAwAOFJZV6YNFKvZS9Izgb2Lm1nhmfphE9WPYCAHU19Ix1qnPu0Al+7vr21bqjHn8hqY9zrsjMrpW0UFLy117k3CzV3O5P6enpR38OAEAI/HN9gSbNzdauQ2XB2Y/O76d7RrHsBQDqc8xibWb3OOemSXrUzL5WaJ1zPz/Gy/Ml9arzuKdqzkrXff2hOh+/ZmZ/MLOOzrkCAQB8UVYZ0BOvr9FfP9ocnHVLitNT41J1/sCO/gUDgCbueGesV9f+c/lJfO5lkpLNrJ+k7ZJukfSdugeYWVdJu51zzszOUs1dSvadxNcCAHhgRf5BTZiTpY17j1zxd2Nadz08eoSS4ln2AgDHcsxi7Zx7ufbDFc65L0/kEzvnqszsDklLVHP3kOedc6vM7Pba55+TNFbST8ysSlKppFucc1zqAQCNrCpQrT+8t1G/fXu9qmqXvSTFR+vRMSP0rZHdfU4HAOHBGtJjzexdSd0kzZU0u743GDaW9PR0t3z5yZxABwDUZ1NBsSbMyVLWtoPB2UWDOmn62JHq0ob7UgNAPep7L2GD72N9ae1lGxmSZplZG0lznHNTPQwIAGhEzjn976db9eirq1VaGZAkxUVHaMq1Q/W9c/rIrN7fGwCAb9Dg+1g753ZJ+m3t2et7JP1KEsUaAMLQnkNlumf+Cr23dm9wltozSTPGp2lAp9Y+JgOA8NXQ+1gPVc1ymLGqeXPhbEl3hTAXACBEXsvZqSkv5uhASc2yl8gI088uG6ifXjpQ0Sx7AYCT1tAz1n+R9A9JVznndhzvYABA03OorFIPLVqlBV9uD876d0rQzIw0pfZq62MyAGgejluszSxS0kbn3G8aIQ8AIAQ+2ligSZnZ2lF4ZNnLv53bR/ddM1TxMSx7AQAvHLdYO+cCZtbBzGKccxWNEQoA4I2yyoCmL1mrP/9zU3DWpU2spo9N1UWDOvmYDACan4ZeCrJF0odm9pKk4NYA59yMkKQCAJyyldsLNTEzS+t2FwVn3xrZTVNvHKG2rWJ8TAYAzVNDi/WO2j8RkhJDFwcAcKoC1U7PLd2oZ95ap8pAza6CNnFReuTGERqd1sPndADQfDX0PtYPhzoIAODUbdlXrImZ2fp8y4Hg7IKBHTV93Eh1S4r3MRkANH8Nvd3eu5K+tqLROXeZ54kAACfMOafZy7bpkVdyVVJRs+wlNipCk68Zoh+c21cRESx7AYBQa+ilIJPqfBwn6WZJVd7HAQCcqL2Hy3Xf/BV6e82e4CylR5Jmjk/VwM5cvQcAjaWhl4J8ftToQzNbGoI8AIATsGTVLk1ekKP9xTU3bYow6Y5LB+pnlyez7AUAGllDLwVpX+dhhKR0SV1DkggAcFyHyyr165dzNffz/OCsb4dWmjE+Taf3budjMgBouRp6KcjnOnKNdZWkzZJuDUUgAMCxfZq3T3fNzVb+gdLg7Ltn99aU64aqVUxDf6wDALx2zJ/AZnampG3OuX61j/9NNddXb5aUG/J0AICg8qqAZryxTrM+yJOrPdXRKTFW08aO1KWDO/sbDgBw3DPWf5R0hSSZ2UWSHpf0M0lpkmZJGhvSdAAASdLqnYc0YU6W1uw6HJxdM6KrHh2TovYJLHsBgKbgeMU60jm3v/bj8ZJmOefmS5pvZlmhjQYACFQ7/emDPD39xjpVBKolSYmxUXp49HCNOa2HzLiNHgA0Fcct1mYW5ZyrknS5pNtO4LUAgFOwbX+J7srM1meb9wdn5/Rvr6cz0tSjLcteAKCpOV45/oekpWZWIKlU0geSZGYDJRWGOBsAtEjOOc39PF+/fjlXReU1KwNioiJ0z9WD9aPz+7HsBQCaqGMWa+fco2b2tqRukt5w7qu3yyhCNddaAwA8VFBUrskLcvRm7u7gbFi3NnrmljQN6sKyFwBoyo57OYdz7pN6ZutCEwcAWq63cnfrvgUrVFB0ZNnL7RcP0J1XDFJMFMteAKCp4zppAPBZUXmVpr6Sq9nLtgVnvdu30oyMVKX3bX+MVwIAmhKKNQD4aPnm/ZqYma2t+0uCs2+f1UtTrhum1rH8iAaAcMJPbQDwQUVVtZ55a52eW7pR1bXvXunYOkZP3DRSVwzr4m84AMBJoVgDQCNbu+uwJszJUu7OQ8HZVcO66PGbUtShdayPyQAAp4JiDQCNpLra6fkPN2nakrWqqKpZ9tI6NkoPXj9MY8/oybIXAAhzFGsAaATbD5ZqUma2Ps7bF5yd1be9ns5IVa/2rXxMBgDwCsUaAELIOacXv9yuBxet0uGvlr1ERuiuqwbpPy7sr0iWvQBAs0GxBoAQ2V9coSkv5uj1lbuCsyFdEzVzfJqGdmvjYzIAQChQrAEgBN5du0f3zFuhvYfLJUlm0m0X9tfEqwYpNirS53QAgFCgWAOAh0oqqvToq6v1v59uDc56tovX0+NSdXb/Dj4mAwCEGsUaADzyxdYDmjgnS5v3HVn2Mu6MnvrV9cOUGBftYzIAQGOgWAPAKaoMVOt3b6/X79/dEFz20j4hRo/flKKrh3f1NxwAoNFQrAHgFGzYc1gT5mQrZ3thcHb5kM564uaR6pTIshcAaEko1gBwEqqrnf7fx5v1xOtrVF677KVVTKR+9a1hGn9mL5a9AEALRLEGgBO0s7BUk+Zm68MNR5a9nNGnnWZkpKpPhwQfkwEA/ESxBoATsChrux5YuFKHymqWvURHmiZcOUg/vmgAy14AoIWjWANAAxwsqdAvF67UKyt2BmfJnVtr5vg0jeiR5GMyAEBTQbEGgONYum6v7pmXrd2HyoOz/7ignyZdPVhx0Sx7AQDUoFgDwDcorQjo8ddX628fbwnOuifF6amMVJ03oKOPyQAATRHFGgDqkb3toCbMyVJeQXFwdtPpPfTQDcPVhmUvAIB6UKwBoI7KQLWefXeDfvfOBgVqt720bRWtx8ak6NqUbj6nAwA0ZRRrAKiVt7dIEzKzlb3tYHB2yeBOmnbzSHVuE+djMgBAOKBYA2jxnHN64ZMteuy11SqrrFn2Eh8dqSnXDdV3z+7NshcAQINQrAG0aLsPlenueSv0/rq9wVlar7aaOT5N/Tqy7AUA0HAUawAt1isrdmjKiytVWFopSYqKMP3i8mT95JIBioqM8DkdACDcUKwBtDiFpZV6cNFKLczaEZwN6JSgZ8afppSeLHsBAJwcijWAFuXDDQWaNDdbOwvLgrMfntdX910zhGUvAIBTQrEG0CKUVQb05OI1+suHm4Ozrm3i9NS4VF2QzLIXAMCpo1gDaPZy8gs1ITNLG/YUBWej07rr1zeMUFIrlr0AALxBsQbQbFUFqvXc0o165q31qqpd9pIUH62pN47Q9andfU4HAGhuKNYAmqXNBcWakJmlL7ceWfZyYXJHTR+bqq5JLHsBAHiPYg2gWXHO6f8+26qpr6xWaWVAkhQXHaH7rx2q75/Th2UvAICQoVgDaDb2HC7TvfNW6N21R5a9pPZM0ozxaRrQqbWPyQAALQHFGkCz8HrOTt3/Yo4OlNQse4mMMN1x6UDdcdlARbPsBQDQCEL628bMRpnZWjPbYGb3HeO4M80sYGZjQ5kHQPNzqKxSEzOz9JP//SJYqvt3TND8n5ynCVcOolQDABpNyM5Ym1mkpGclXSkpX9IyM3vJOZdbz3FPSloSqiwAmqePN+7TpLnZ2n6wNDj7wbl9NPmaoYqPYdkLAKBxhfJSkLMkbXDO5UmSmc2WNFpS7lHH/UzSfElnhjALgGakrDKgp99Yqz/9c5NczV301DkxVtPHperiQZ38DQcAaLFCWax7SNpW53G+pLPrHmBmPSSNkXSZjlGszew2SbdJUu/evT0PCiB8rNpRqIlzsrV294GhacQAAA9/SURBVOHg7LqUbpp64wi1S4jxMRkAoKULZbGu755W7qjHz0i61zkXONYtsJxzsyTNkqT09PSjPweAFiBQ7fTH9zdq5pvrVBmo+TGQGBelR0aP0Oi07txGDwDgu1AW63xJveo87ilpx1HHpEuaXfsLsaOka82syjm3MIS5AISZrftKNDEzS8u3HAjOzh/YQdPHpqp723gfkwEAcEQoi/UySclm1k/Sdkm3SPpO3QOcc/2++tjM/irpFUo1gK8455S5fJt+/XKuiitqlr3ERkXo3lFD9MPz+ioigrPUAICmI2TF2jlXZWZ3qOZuH5GSnnfOrTKz22uffy5UXxtA+Nt7uFyTF6zQW6v3BGcjerTRzIw0JXdJ9DEZAAD1M+fC65Ll9PR0t3z5cr9jAAihN1bt0uQFOdpXXCFJijDpvy4ZqJ9fnqyYKO5LDQDwXb1/ZcrmRQBNxuGySj3ySq4yl+cHZ306tNKMjDSd0aedj8kAADg+ijWAJuGzTfs1MTNL+QeOLHv5ztm9NeXaoUqI5UcVAKDp47cVAF+VVwU04811mvV+XnDZS8fWsZo2NkWXDenibzgAAE4AxRqAb9bsOqQ7Z2dpza4jy15GDe+qx25KUXuWvQAAwgzFGkCjC1Q7/fmfeXpqyTpVBKolSa1jo/TwDcN10+k9WPYCAAhLFGsAjWrb/hLdNTdbn23aH5yd3a+9ns5IVc92rXxMBgDAqaFYA2gUzjnN+zxfD7+cq6LyKklSTGSE7r56sG69oB/LXgAAYY9iDSDk9hWV6/4Xc7Rk1e7gbGi3NnpmfJoGd2XZCwCgeaBYAwipt1fv1r3zc1RQVC5JMpNuv3iA7rwiWbFRkT6nAwDAOxRrACFRXF6lqa+u1j8+2xqc9WofrxkZaTqzb3sfkwEAEBoUawCe+3zLfk3MzNaWfSXB2fj0Xnrg+mFqzbIXAEAzxW84AJ6pqKrWb95ep/9+b6Oqa5e9dEiI0RM3j9SVw1j2AgBo3ijWADyxbvdhTZiTpVU7DgVnVw7rosdvSlHH1rE+JgMAoHFQrAGckupqp798tFlPLl6jiqqaZS8JMZF68PrhGpfek2UvAIAWg2IN4KRtP1iqu+dm66ON+4KzM/u204yMNPVqz7IXAEDLQrEGcMKcc1qYtV2/WrRKh8tqlr1ER5ruumqw/vPC/opk2QsAoAWiWAM4IQeKKzRlYY5ey9kVnA3pmqgZGWka1r2Nj8kAAPAXxRpAg723do/umbdCew4fWfZy24X9NfGqQSx7AQC0eBRrAMdVUlGlx15brb9/cmTZS4+28Xo6I1Xn9O/gYzIAAJoOijWAY/py6wFNzMzWpoLi4GzsGT314PXDlBgX7WMyAACaFoo1gHpVBqr1u7fX69n3NipQu+2lfUKMHhuTolEjuvqcDgCApodiDeBrNuwp0oQ5WcrZXhicXTaks564OUWdE+N8TAYAQNNFsQYQVF3t9LePN+vx19eovHbZS6uYSD3wrWG65cxeLHsBAOAYKNYAJEm7Cst097xsfbC+IDg7vXdbzRyfpj4dEnxMBgBAeKBYA9BL2Tv0yxdzdKh22UtUhGnClYP044v6Kyoywud0AACEB4o10IIdLKnQA4tW6eXsHcFZcufWmjk+TSN6JPmYDACA8EOxBlqoD9bv1aS52dp9qDw4u/WCfrr76sGKi2bZCwAAJ4piDbQwpRUBPbl4jf760ebgrHtSnJ4al6rzBnb0LxgAAGGOYg20ICvyD+rOOVnK23tk2cuY03rooRuGKymeZS8AAJwKijXQAlQFqvXsuxv1u3fWq6p22UvbVtF69MYUXTeym8/pAABoHijWQDOXt7dIEzOzlbXtYHB20aBOmj52pLq0YdkLAABeoVgDzZRzTn//dKsee3W1SisDkqT46Ejdf91Qfe/s3ix7AQDAYxRroBnafahM98xboaXr9gZnqb3aamZGqvp3au1jMgAAmi+KNdDMvLpip6YszNHBkkpJUmSE6ReXJ+u/LhnAshcAAEKIYg00E4WllXropVV68cvtwVn/Tgl6ZnyaRvZs62MyAABaBoo14KHv//lT5R8oVc928Xrh1rMb7et+tKFAk+Zma0dhWXD2w/P66t5RQxQfw7IXAAAaA8Ua8FD+gVJtKig+/oEeKasMaNritXr+w03BWdc2cZo+bqQuTO7UaDkAAADFGghbK7cXasKcLK3fUxSc3ZDaXY+MHqGkVix7AQCgsVGsgTBTFajWH9/P08w31wWXvbSJi9LUMSm6IbW7z+kAAGi5KNZAGNmyr1gT5mTpi61Hlr1cmNxR08aOVLekeB+TAQAAijUQBpxzmr1smx55JVclFTXLXmKjIjT5miH6wbl9FRHBshcAAPxGsQaauD2HyzR5fo7eXrMnOEvpkaSZ49M0sDPLXgAAaCoo1kATtnjlTk1ekKMDdZa9/PTSgfrZZQMVzbIXAACaFIo10AQdKqvUwy/lav4X+cFZv44JmpGRqtN6t/MxGQAA+CYUa6CJ+SRvn+7KzNb2g6XB2ffO6a37rx2qVjF8ywIA0FTxWxpoIsqrAnr6jXX6nw/y5GruoqdOibGaNnakLh3c2d9wAADguCjWQBOQu+OQJmZmac2uw8HZtSld9eiNKWqXEONjMgAA0FAUa8BHgWqnWe/nacaba1UZqDlNnRgXpV+PHq4b03rIjNvoAQAQLijWgE+27S/RxMwsLdt8IDg7b0AHPTUuVd3bsuwFAIBwQ7EGGplzTnOX5+vhl1epuHbZS0xUhO4dNUT/fh7LXgAACFcUa6ARFRSVa/KCHL2Zuzs4G969jWaOT9OgLok+JgMAAKeKYg00kjdzd2vyghUqKKqQJEWY9JNLBugXlw9STBTLXgAACHcUayDEisqr9MjLuZqzfFtw1rt9K80cn6oz+rT3MRkAAPASxRrwgHNOH+ft0/7imrPRJRVVClQ7fbH1gCZmZmnb/iPLXr59Vm/98rqhSojl2w8AgOYkpL/ZzWyUpN9IipT0J+fcE0c9P1rSI5KqJVVJutM5989QZgK8dqisUj/+2+f6OG9fcLb7ULnOfuwt7SuqUO2uF3VsHasnb07R5UO7+BMUAACEVMiKtZlFSnpW0pWS8iUtM7OXnHO5dQ57W9JLzjlnZiMlZUoaEqpMQChMnp/zL6X6K19dSy1JVw/vosfGpKhD69jGjAYAABpRKM9YnyVpg3MuT5LMbLak0ZKCxdo5V1Tn+AQpeHIPCAvb9pfotZydxzzm55cna8IVySx7AQCgmQvlrQh6SNpW53F+7exfmNkYM1sj6VVJPwphHsBzOdsLj/tfg+1bRVOqAQBoAUJZrOtrEl/rIM65F51zQyTdqJrrrb/+icxuM7PlZrZ87969HscETl58dOTxj4k5/jEAACD8hbJY50vqVedxT0k7vulg59z7kgaYWcd6npvlnEt3zqV36tTJ+6TASTqnfwclxUd/4/PRkabLhvBmRQAAWoJQFutlkpLNrJ+ZxUi6RdJLdQ8ws4FW+3fkZna6pBhJX38XGNBExcdE6q6rBn3j8z++aIA6JfKGRQAAWoKQvXnROVdlZndIWqKa2+0975xbZWa31z7/nKSbJf3AzCollUoa75zjDYwIKz84t6/ioiL1zFvrtKOwTFLNVsXJ1wzVf1zYz+d0AACgsVi49dj09HS3fPlyv2MAXxOodrpo2rvafrBUfTu00nt3X+p3JAAAEBr13pUglJeCAC1KZIQpJqrmW4q7gAAA0PJQrAEAAAAPUKwBAAAAD1CsAQAAAA9QrAEAAAAPUKwBAAAAD1CsAQAAAA9QrAEAAAAPUKwBAAAAD1CsAQAAAA9QrAEAAAAPUKwBAAAAD1CsAQAAAA9QrAEAAAAPUKwBAAAAD1CsAQAAAA9E+R0AaE56tov/l38CAICWg2INeOiFW8/2OwIAAPAJl4IAAAAAHqBYAwAAAB6gWAMAAAAeoFgDAAAAHqBYAwAAAB6gWAMAAAAeoFgDAAAAHqBYAwAAAB6gWAMAAAAeoFgDAAAAHqBYAwAAAB6gWAMAAAAeMOec3xlOiJntlbTF7xzAMXSUVOB3CAAIY/wcRVNX4JwbdfQw7Io10NSZ2XLnXLrfOQAgXPFzFOGKS0EAAAAAD1CsAQAAAA9QrAHvzfI7AACEOX6OIixxjTUAAADgAc5YAwAAAB6gWAMAAAAeoFgDHjGzUWa21sw2mNl9fucBgHBjZs+b2R4zW+l3FuBkUKwBD5hZpKRnJV0jaZikb5vZMH9TAUDY+aukry3dAMIFxRrwxlmSNjjn8pxzFZJmSxrtcyYACCvOufcl7fc7B3CyKNaAN3pI2lbncX7tDAAAtBAUa8AbVs+Me1kCANCCUKwBb+RL6lXncU9JO3zKAgAAfECxBryxTFKymfUzsxhJt0h6yedMAACgEVGsAQ8456ok3SFpiaTVkjKdc6v8TQUA4cXM/iHpY0mDzSzfzG71OxNwIlhpDgAAAHiAM9YAAACAByjWAAAAgAco1gAAAIAHKNYAAACAByjWAAAAgAco1gAAAIAHKNYAEObM7CEzm1TPvLuZzTvJz/mambU9geP7mtnKk/laANBcRPkdAAAQGs65HZLGnuRrr/U4DgA0e5yxBoAmysx+YGYrzCzbzF4ws+vN7FMz+9LM3jKzLnUOTzWzd8xsvZn9Z+3rg2eRzeyHZrbAzBbXHjPtOF97s5l1rP0cq83sf8xslZm9YWbxtcecUZvtY0k/DdX/DgAQLijWANAEmdlwSVMkXeacS5X0C0n/lHSOc+40SbMl3VPnJSMlXSfpXEm/MrPu9XzaNEnjJaVIGm9mvRoYJ1nSs8654ZIOSrq5dv4XST93zp17Qv9yANBMUawBoGm6TNI851yBJDnn9kvqKWmJmeVIulvS8DrHL3LOldYe/66ks+r5nG875wqdc2WSciX1aWCWTc65rNqPP5fU18ySJLV1zi2tnb9wIv9yANAcUawBoGkySe6o2e8k/d45lyLpx5Li6jx39LFHP5ak8jofB9Tw99nU97r68gFAi0axBoCm6W1JGWbWQZLMrL2kJEnba5//t6OOH21mcbXHXyJpWSjDOecOSio0swtqR98N5dcDgHDAXUEAoAlyzq0ys0clLTWzgKQvJT0kaa6ZbZf0iaR+dV7ymaRXJfWW9IhzboeZ9Q1xzH+X9LyZlUhaEuKvBQBNnjnH3+QBAAAAp4pLQQAAAAAPcCkIALRgZvappNijxt93zuX4kQcAwhmXggAAAAAe4FIQAAAAwAMUawAAAMADFGsAAADAAxRrAAAAwAP/H1CMCsv3PggCAAAAAElFTkSuQmCC\n",
      "text/plain": [
       "<Figure size 720x360 with 1 Axes>"
      ]
     },
     "metadata": {
      "needs_background": "light"
     },
     "output_type": "display_data"
    },
    {
     "data": {
      "image/png": "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\n",
      "text/plain": [
       "<Figure size 720x360 with 1 Axes>"
      ]
     },
     "metadata": {
      "needs_background": "light"
     },
     "output_type": "display_data"
    }
   ],
   "source": [
    "# ploting categorical feature\n",
    "for i,col in enumerate(['cabin_ind','Sex']):\n",
    "    plt.figure(i)\n",
    "    sns.catplot(x=col,y='Survived',kind='point',data=df,aspect=2)"
   ]
  },
  {
   "cell_type": "markdown",
   "metadata": {},
   "source": [
    "Converting `Sex` feature to Numeric"
   ]
  },
  {
   "cell_type": "code",
   "execution_count": 23,
   "metadata": {},
   "outputs": [],
   "source": [
    "s_cnt = {'male': 1,'female':0}\n",
    "df['Sex'] = df['Sex'].map(s_cnt)"
   ]
  },
  {
   "cell_type": "code",
   "execution_count": 24,
   "metadata": {},
   "outputs": [
    {
     "data": {
      "text/html": [
       "<div>\n",
       "<style scoped>\n",
       "    .dataframe tbody tr th:only-of-type {\n",
       "        vertical-align: middle;\n",
       "    }\n",
       "\n",
       "    .dataframe tbody tr th {\n",
       "        vertical-align: top;\n",
       "    }\n",
       "\n",
       "    .dataframe thead th {\n",
       "        text-align: right;\n",
       "    }\n",
       "</style>\n",
       "<table border=\"1\" class=\"dataframe\">\n",
       "  <thead>\n",
       "    <tr style=\"text-align: right;\">\n",
       "      <th></th>\n",
       "      <th>Survived</th>\n",
       "      <th>Pclass</th>\n",
       "      <th>Sex</th>\n",
       "      <th>Age</th>\n",
       "      <th>Fare</th>\n",
       "      <th>Fam_cnt</th>\n",
       "      <th>cabin_ind</th>\n",
       "    </tr>\n",
       "  </thead>\n",
       "  <tbody>\n",
       "    <tr>\n",
       "      <th>0</th>\n",
       "      <td>0</td>\n",
       "      <td>3</td>\n",
       "      <td>1</td>\n",
       "      <td>22.0</td>\n",
       "      <td>7.2500</td>\n",
       "      <td>1</td>\n",
       "      <td>0</td>\n",
       "    </tr>\n",
       "    <tr>\n",
       "      <th>1</th>\n",
       "      <td>1</td>\n",
       "      <td>1</td>\n",
       "      <td>0</td>\n",
       "      <td>38.0</td>\n",
       "      <td>71.2833</td>\n",
       "      <td>1</td>\n",
       "      <td>1</td>\n",
       "    </tr>\n",
       "    <tr>\n",
       "      <th>2</th>\n",
       "      <td>1</td>\n",
       "      <td>3</td>\n",
       "      <td>0</td>\n",
       "      <td>26.0</td>\n",
       "      <td>7.9250</td>\n",
       "      <td>0</td>\n",
       "      <td>0</td>\n",
       "    </tr>\n",
       "    <tr>\n",
       "      <th>3</th>\n",
       "      <td>1</td>\n",
       "      <td>1</td>\n",
       "      <td>0</td>\n",
       "      <td>35.0</td>\n",
       "      <td>53.1000</td>\n",
       "      <td>1</td>\n",
       "      <td>1</td>\n",
       "    </tr>\n",
       "    <tr>\n",
       "      <th>4</th>\n",
       "      <td>0</td>\n",
       "      <td>3</td>\n",
       "      <td>1</td>\n",
       "      <td>35.0</td>\n",
       "      <td>8.0500</td>\n",
       "      <td>0</td>\n",
       "      <td>0</td>\n",
       "    </tr>\n",
       "  </tbody>\n",
       "</table>\n",
       "</div>"
      ],
      "text/plain": [
       "   Survived  Pclass  Sex   Age     Fare  Fam_cnt  cabin_ind\n",
       "0         0       3    1  22.0   7.2500        1          0\n",
       "1         1       1    0  38.0  71.2833        1          1\n",
       "2         1       3    0  26.0   7.9250        0          0\n",
       "3         1       1    0  35.0  53.1000        1          1\n",
       "4         0       3    1  35.0   8.0500        0          0"
      ]
     },
     "execution_count": 24,
     "metadata": {},
     "output_type": "execute_result"
    }
   ],
   "source": [
    "df.head()"
   ]
  },
  {
   "cell_type": "code",
   "execution_count": 25,
   "metadata": {},
   "outputs": [],
   "source": [
<<<<<<< HEAD
    "df.to_csv('cleaned.csv',index=False)"
=======
    "df.t0_csv('cleaned.csv',index=False)"
>>>>>>> 9a2008fccf2e55468557dbe9b7d892a20d973eb3
   ]
  },
  {
   "cell_type": "code",
   "execution_count": null,
   "metadata": {},
   "outputs": [],
   "source": []
  }
 ],
 "metadata": {
  "kernelspec": {
   "display_name": "Python 3",
   "language": "python",
   "name": "python3"
  },
  "language_info": {
   "codemirror_mode": {
    "name": "ipython",
    "version": 3
   },
   "file_extension": ".py",
   "mimetype": "text/x-python",
   "name": "python",
   "nbconvert_exporter": "python",
   "pygments_lexer": "ipython3",
   "version": "3.8.3"
  }
 },
 "nbformat": 4,
 "nbformat_minor": 4
}
