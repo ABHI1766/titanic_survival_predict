{
 "cells": [
  {
   "cell_type": "markdown",
   "metadata": {},
   "source": [
    "- we have cleaned and explored the data\n",
    "- now i'll be using cleaned dataset\n",
    "- First spliting the data and as 60% training, 20% validation and 20% for testing and then\n",
    "- I'll be using 5 fold cross-validation on 5 algorithms\n",
    "- Logistic Regression\n",
    "- Support vector machine(SVM)\n",
    "- Multilayer perceptron(MLP)\n",
    "- Random Forest\n",
    "- Boosting"
   ]
  },
  {
   "cell_type": "code",
   "execution_count": 1,
   "metadata": {},
   "outputs": [],
   "source": [
    "import pandas as pd\n",
    "from sklearn.model_selection import train_test_split"
   ]
  },
  {
   "cell_type": "code",
   "execution_count": 2,
   "metadata": {},
   "outputs": [],
   "source": [
    "df = pd.read_csv('cleaned.csv')"
   ]
  },
  {
   "cell_type": "code",
   "execution_count": 3,
   "metadata": {},
   "outputs": [
    {
     "data": {
      "text/html": [
       "<div>\n",
       "<style scoped>\n",
       "    .dataframe tbody tr th:only-of-type {\n",
       "        vertical-align: middle;\n",
       "    }\n",
       "\n",
       "    .dataframe tbody tr th {\n",
       "        vertical-align: top;\n",
       "    }\n",
       "\n",
       "    .dataframe thead th {\n",
       "        text-align: right;\n",
       "    }\n",
       "</style>\n",
       "<table border=\"1\" class=\"dataframe\">\n",
       "  <thead>\n",
       "    <tr style=\"text-align: right;\">\n",
       "      <th></th>\n",
       "      <th>Survived</th>\n",
       "      <th>Pclass</th>\n",
       "      <th>Sex</th>\n",
       "      <th>Age</th>\n",
       "      <th>Fare</th>\n",
       "      <th>Fam_cnt</th>\n",
       "      <th>cabin_ind</th>\n",
       "    </tr>\n",
       "  </thead>\n",
       "  <tbody>\n",
       "    <tr>\n",
       "      <th>0</th>\n",
       "      <td>0</td>\n",
       "      <td>3</td>\n",
       "      <td>1</td>\n",
       "      <td>22.0</td>\n",
       "      <td>7.2500</td>\n",
       "      <td>1</td>\n",
       "      <td>0</td>\n",
       "    </tr>\n",
       "    <tr>\n",
       "      <th>1</th>\n",
       "      <td>1</td>\n",
       "      <td>1</td>\n",
       "      <td>0</td>\n",
       "      <td>38.0</td>\n",
       "      <td>71.2833</td>\n",
       "      <td>1</td>\n",
       "      <td>1</td>\n",
       "    </tr>\n",
       "    <tr>\n",
       "      <th>2</th>\n",
       "      <td>1</td>\n",
       "      <td>3</td>\n",
       "      <td>0</td>\n",
       "      <td>26.0</td>\n",
       "      <td>7.9250</td>\n",
       "      <td>0</td>\n",
       "      <td>0</td>\n",
       "    </tr>\n",
       "    <tr>\n",
       "      <th>3</th>\n",
       "      <td>1</td>\n",
       "      <td>1</td>\n",
       "      <td>0</td>\n",
       "      <td>35.0</td>\n",
       "      <td>53.1000</td>\n",
       "      <td>1</td>\n",
       "      <td>1</td>\n",
       "    </tr>\n",
       "    <tr>\n",
       "      <th>4</th>\n",
       "      <td>0</td>\n",
       "      <td>3</td>\n",
       "      <td>1</td>\n",
       "      <td>35.0</td>\n",
       "      <td>8.0500</td>\n",
       "      <td>0</td>\n",
       "      <td>0</td>\n",
       "    </tr>\n",
       "  </tbody>\n",
       "</table>\n",
       "</div>"
      ],
      "text/plain": [
       "   Survived  Pclass  Sex   Age     Fare  Fam_cnt  cabin_ind\n",
       "0         0       3    1  22.0   7.2500        1          0\n",
       "1         1       1    0  38.0  71.2833        1          1\n",
       "2         1       3    0  26.0   7.9250        0          0\n",
       "3         1       1    0  35.0  53.1000        1          1\n",
       "4         0       3    1  35.0   8.0500        0          0"
      ]
     },
     "execution_count": 3,
     "metadata": {},
     "output_type": "execute_result"
    }
   ],
   "source": [
    "df.head()"
   ]
  },
  {
   "cell_type": "markdown",
   "metadata": {},
   "source": [
    "# Spliting the data for train, test and validation"
   ]
  },
  {
   "cell_type": "code",
   "execution_count": 4,
   "metadata": {},
   "outputs": [],
   "source": [
    "features = df.drop('Survived',axis=1)\n",
    "label = df['Survived']"
   ]
  },
  {
   "cell_type": "code",
   "execution_count": 5,
   "metadata": {},
   "outputs": [
    {
     "data": {
      "text/html": [
       "<div>\n",
       "<style scoped>\n",
       "    .dataframe tbody tr th:only-of-type {\n",
       "        vertical-align: middle;\n",
       "    }\n",
       "\n",
       "    .dataframe tbody tr th {\n",
       "        vertical-align: top;\n",
       "    }\n",
       "\n",
       "    .dataframe thead th {\n",
       "        text-align: right;\n",
       "    }\n",
       "</style>\n",
       "<table border=\"1\" class=\"dataframe\">\n",
       "  <thead>\n",
       "    <tr style=\"text-align: right;\">\n",
       "      <th></th>\n",
       "      <th>Pclass</th>\n",
       "      <th>Sex</th>\n",
       "      <th>Age</th>\n",
       "      <th>Fare</th>\n",
       "      <th>Fam_cnt</th>\n",
       "      <th>cabin_ind</th>\n",
       "    </tr>\n",
       "  </thead>\n",
       "  <tbody>\n",
       "    <tr>\n",
       "      <th>0</th>\n",
       "      <td>3</td>\n",
       "      <td>1</td>\n",
       "      <td>22.0</td>\n",
       "      <td>7.2500</td>\n",
       "      <td>1</td>\n",
       "      <td>0</td>\n",
       "    </tr>\n",
       "    <tr>\n",
       "      <th>1</th>\n",
       "      <td>1</td>\n",
       "      <td>0</td>\n",
       "      <td>38.0</td>\n",
       "      <td>71.2833</td>\n",
       "      <td>1</td>\n",
       "      <td>1</td>\n",
       "    </tr>\n",
       "    <tr>\n",
       "      <th>2</th>\n",
       "      <td>3</td>\n",
       "      <td>0</td>\n",
       "      <td>26.0</td>\n",
       "      <td>7.9250</td>\n",
       "      <td>0</td>\n",
       "      <td>0</td>\n",
       "    </tr>\n",
       "    <tr>\n",
       "      <th>3</th>\n",
       "      <td>1</td>\n",
       "      <td>0</td>\n",
       "      <td>35.0</td>\n",
       "      <td>53.1000</td>\n",
       "      <td>1</td>\n",
       "      <td>1</td>\n",
       "    </tr>\n",
       "    <tr>\n",
       "      <th>4</th>\n",
       "      <td>3</td>\n",
       "      <td>1</td>\n",
       "      <td>35.0</td>\n",
       "      <td>8.0500</td>\n",
       "      <td>0</td>\n",
       "      <td>0</td>\n",
       "    </tr>\n",
       "  </tbody>\n",
       "</table>\n",
       "</div>"
      ],
      "text/plain": [
       "   Pclass  Sex   Age     Fare  Fam_cnt  cabin_ind\n",
       "0       3    1  22.0   7.2500        1          0\n",
       "1       1    0  38.0  71.2833        1          1\n",
       "2       3    0  26.0   7.9250        0          0\n",
       "3       1    0  35.0  53.1000        1          1\n",
       "4       3    1  35.0   8.0500        0          0"
      ]
     },
     "execution_count": 5,
     "metadata": {},
     "output_type": "execute_result"
    }
   ],
   "source": [
    "features.head()"
   ]
  },
  {
   "cell_type": "code",
   "execution_count": 6,
   "metadata": {},
   "outputs": [
    {
     "data": {
      "text/plain": [
       "0    0\n",
       "1    1\n",
       "2    1\n",
       "3    1\n",
       "4    0\n",
       "Name: Survived, dtype: int64"
      ]
     },
     "execution_count": 6,
     "metadata": {},
     "output_type": "execute_result"
    }
   ],
   "source": [
    "label.head()"
   ]
  },
  {
   "cell_type": "code",
   "execution_count": 7,
   "metadata": {},
   "outputs": [],
   "source": [
    "x_train,x_test,y_train,y_test = train_test_split(features,label,test_size=0.4,random_state=42)\n",
    "x_val,x_test,y_val,y_test = train_test_split(x_test,y_test,test_size=0.5,random_state=42)"
   ]
  },
  {
   "cell_type": "code",
   "execution_count": 8,
   "metadata": {},
   "outputs": [],
   "source": [
    "x_train.to_csv('train_features.csv',index=False)\n",
    "y_train.to_csv('train_label.csv',index=False)\n",
    "x_test.to_csv('test_features.csv',index=False)\n",
    "y_test.to_csv('test_label.csv',index=False)\n",
    "x_val.to_csv('val_features.csv',index=False)\n",
    "y_val.to_csv('val_label.csv',index=False)"
   ]
  },
  {
   "cell_type": "code",
   "execution_count": 9,
   "metadata": {},
   "outputs": [
    {
     "name": "stdout",
     "output_type": "stream",
     "text": [
      "0.6\n",
      "0.2\n",
      "0.2\n"
     ]
    }
   ],
   "source": [
    "for dataset in [y_train, y_val, y_test]:\n",
    "    print(round(len(dataset) / len(label),1))"
   ]
  },
  {
   "cell_type": "code",
   "execution_count": 10,
   "metadata": {},
   "outputs": [
    {
     "name": "stdout",
     "output_type": "stream",
     "text": [
      "534\n",
      "178\n",
      "179\n"
     ]
    }
   ],
   "source": [
    "for dataset in [y_train, y_val, y_test]:\n",
    "    print(len(dataset))"
   ]
  },
  {
   "cell_type": "code",
   "execution_count": null,
   "metadata": {},
   "outputs": [],
   "source": []
  },
  {
   "cell_type": "markdown",
   "metadata": {},
   "source": [
    "# 1) Train the model in Logistic Regression"
   ]
  },
  {
   "cell_type": "code",
   "execution_count": 11,
   "metadata": {},
   "outputs": [],
   "source": [
    "import joblib\n",
    "from sklearn.linear_model import LogisticRegression\n",
    "from sklearn.model_selection import GridSearchCV\n",
    "\n",
    "LR_model = LogisticRegression()"
   ]
  },
  {
   "cell_type": "code",
   "execution_count": 12,
   "metadata": {},
   "outputs": [],
   "source": [
    "tr_feature = pd.read_csv('train_features.csv')\n",
    "tr_label = pd.read_csv('train_label.csv')"
   ]
  },
  {
   "cell_type": "code",
   "execution_count": 13,
   "metadata": {},
   "outputs": [],
   "source": [
    "def print_result(results):\n",
    "    print(f'BEST PARAMS : {results.best_params_}')\n",
    "    \n",
    "    means = results.cv_results_['mean_test_score']\n",
    "    stds = results.cv_results_['std_test_score']\n",
    "    params = results.cv_results_['params']\n",
    "    \n",
    "    for mean,std,param in zip(means,stds,params):\n",
    "        print(f'{round(mean,3)} (+/-{round(std *2,3)} for {param}')"
   ]
  },
  {
   "cell_type": "code",
   "execution_count": 14,
   "metadata": {},
   "outputs": [
    {
     "name": "stdout",
     "output_type": "stream",
     "text": [
      "BEST PARAMS : {'C': 1}\n",
      "0.67 (+/-0.077 for {'C': 0.001}\n",
      "0.708 (+/-0.098 for {'C': 0.01}\n",
      "0.777 (+/-0.134 for {'C': 0.1}\n",
      "0.8 (+/-0.118 for {'C': 1}\n",
      "0.794 (+/-0.116 for {'C': 10}\n",
      "0.794 (+/-0.116 for {'C': 100}\n",
      "0.794 (+/-0.116 for {'C': 1000}\n"
     ]
    }
   ],
   "source": [
    "parameters = {'C' : [0.001,0.01,0.1,1,10,100,1000]}\n",
    "cv = GridSearchCV(LR_model,parameters,cv=5)\n",
    "cv.fit(tr_feature,tr_label.values.ravel())\n",
    "print_result(cv)"
   ]
  },
  {
   "cell_type": "code",
   "execution_count": 15,
   "metadata": {},
   "outputs": [
    {
     "data": {
      "text/plain": [
       "LogisticRegression(C=1)"
      ]
     },
     "execution_count": 15,
     "metadata": {},
     "output_type": "execute_result"
    }
   ],
   "source": [
    "cv.best_estimator_"
   ]
  },
  {
   "cell_type": "code",
   "execution_count": 16,
   "metadata": {},
   "outputs": [
    {
     "data": {
      "text/plain": [
       "['LR_model.pkl']"
      ]
     },
     "execution_count": 16,
     "metadata": {},
     "output_type": "execute_result"
    }
   ],
   "source": [
    "joblib.dump(cv.best_estimator_,'LR_model.pkl')"
   ]
  },
  {
   "cell_type": "code",
   "execution_count": null,
   "metadata": {},
   "outputs": [],
   "source": []
  },
  {
   "cell_type": "markdown",
   "metadata": {},
   "source": [
    "# 2) Train the model in Support Vector Machine(SVM)"
   ]
  },
  {
   "cell_type": "code",
   "execution_count": 17,
   "metadata": {},
   "outputs": [],
   "source": [
    "from sklearn.svm import SVC\n",
    "svm_model = SVC()"
   ]
  },
  {
   "cell_type": "code",
   "execution_count": 18,
   "metadata": {},
   "outputs": [
    {
     "name": "stdout",
     "output_type": "stream",
     "text": [
      "BEST PARAMS : {'C': 0.1, 'kernel': 'linear'}\n",
      "0.796 (+/-0.115 for {'C': 0.1, 'kernel': 'linear'}\n",
      "0.654 (+/-0.06 for {'C': 0.1, 'kernel': 'rbf'}\n",
      "0.796 (+/-0.115 for {'C': 1, 'kernel': 'linear'}\n",
      "0.661 (+/-0.048 for {'C': 1, 'kernel': 'rbf'}\n",
      "0.796 (+/-0.115 for {'C': 10, 'kernel': 'linear'}\n",
      "0.684 (+/-0.07 for {'C': 10, 'kernel': 'rbf'}\n"
     ]
    }
   ],
   "source": [
    "parameters = {\n",
    "    'C':[0.1,1,10],\n",
    "    'kernel':['linear','rbf']}\n",
    "cv = GridSearchCV(svm_model,parameters,cv=5)\n",
    "cv.fit(tr_feature,tr_label.values.ravel())\n",
    "print_result(cv)"
   ]
  },
  {
   "cell_type": "code",
   "execution_count": 19,
   "metadata": {},
   "outputs": [
    {
     "data": {
      "text/plain": [
       "['svm_model.pkl']"
      ]
     },
     "execution_count": 19,
     "metadata": {},
     "output_type": "execute_result"
    }
   ],
   "source": [
    "joblib.dump(cv.best_estimator_,'svm_model.pkl')"
   ]
  },
  {
   "cell_type": "code",
   "execution_count": null,
   "metadata": {},
   "outputs": [],
   "source": []
  },
  {
   "cell_type": "markdown",
   "metadata": {},
   "source": [
    "# 3) Train the model in Multilayer Perceptron(MLP)"
   ]
  },
  {
   "cell_type": "code",
   "execution_count": 20,
   "metadata": {},
   "outputs": [],
   "source": [
    "from sklearn.neural_network import MLPClassifier\n",
    "mlp_model = MLPClassifier()"
   ]
  },
  {
   "cell_type": "code",
   "execution_count": 33,
   "metadata": {
    "collapsed": true
   },
   "outputs": [
    {
     "name": "stderr",
     "output_type": "stream",
     "text": [
      "/home/kali/.local/lib/python3.8/site-packages/sklearn/neural_network/_multilayer_perceptron.py:614: ConvergenceWarning: Stochastic Optimizer: Maximum iterations (200) reached and the optimization hasn't converged yet.\n",
      "  warnings.warn(\n",
      "/home/kali/.local/lib/python3.8/site-packages/sklearn/neural_network/_multilayer_perceptron.py:614: ConvergenceWarning: Stochastic Optimizer: Maximum iterations (200) reached and the optimization hasn't converged yet.\n",
      "  warnings.warn(\n",
      "/home/kali/.local/lib/python3.8/site-packages/sklearn/neural_network/_multilayer_perceptron.py:614: ConvergenceWarning: Stochastic Optimizer: Maximum iterations (200) reached and the optimization hasn't converged yet.\n",
      "  warnings.warn(\n",
      "/home/kali/.local/lib/python3.8/site-packages/sklearn/neural_network/_multilayer_perceptron.py:614: ConvergenceWarning: Stochastic Optimizer: Maximum iterations (200) reached and the optimization hasn't converged yet.\n",
      "  warnings.warn(\n",
      "/home/kali/.local/lib/python3.8/site-packages/sklearn/neural_network/_multilayer_perceptron.py:614: ConvergenceWarning: Stochastic Optimizer: Maximum iterations (200) reached and the optimization hasn't converged yet.\n",
      "  warnings.warn(\n",
      "/home/kali/.local/lib/python3.8/site-packages/sklearn/neural_network/_multilayer_perceptron.py:614: ConvergenceWarning: Stochastic Optimizer: Maximum iterations (200) reached and the optimization hasn't converged yet.\n",
      "  warnings.warn(\n",
      "/home/kali/.local/lib/python3.8/site-packages/sklearn/neural_network/_multilayer_perceptron.py:614: ConvergenceWarning: Stochastic Optimizer: Maximum iterations (200) reached and the optimization hasn't converged yet.\n",
      "  warnings.warn(\n",
      "/home/kali/.local/lib/python3.8/site-packages/sklearn/neural_network/_multilayer_perceptron.py:614: ConvergenceWarning: Stochastic Optimizer: Maximum iterations (200) reached and the optimization hasn't converged yet.\n",
      "  warnings.warn(\n",
      "/home/kali/.local/lib/python3.8/site-packages/sklearn/neural_network/_multilayer_perceptron.py:614: ConvergenceWarning: Stochastic Optimizer: Maximum iterations (200) reached and the optimization hasn't converged yet.\n",
      "  warnings.warn(\n",
      "/home/kali/.local/lib/python3.8/site-packages/sklearn/neural_network/_multilayer_perceptron.py:614: ConvergenceWarning: Stochastic Optimizer: Maximum iterations (200) reached and the optimization hasn't converged yet.\n",
      "  warnings.warn(\n",
      "/home/kali/.local/lib/python3.8/site-packages/sklearn/neural_network/_multilayer_perceptron.py:614: ConvergenceWarning: Stochastic Optimizer: Maximum iterations (200) reached and the optimization hasn't converged yet.\n",
      "  warnings.warn(\n",
      "/home/kali/.local/lib/python3.8/site-packages/sklearn/neural_network/_multilayer_perceptron.py:614: ConvergenceWarning: Stochastic Optimizer: Maximum iterations (200) reached and the optimization hasn't converged yet.\n",
      "  warnings.warn(\n",
      "/home/kali/.local/lib/python3.8/site-packages/sklearn/neural_network/_multilayer_perceptron.py:614: ConvergenceWarning: Stochastic Optimizer: Maximum iterations (200) reached and the optimization hasn't converged yet.\n",
      "  warnings.warn(\n",
      "/home/kali/.local/lib/python3.8/site-packages/sklearn/neural_network/_multilayer_perceptron.py:614: ConvergenceWarning: Stochastic Optimizer: Maximum iterations (200) reached and the optimization hasn't converged yet.\n",
      "  warnings.warn(\n",
      "/home/kali/.local/lib/python3.8/site-packages/sklearn/neural_network/_multilayer_perceptron.py:614: ConvergenceWarning: Stochastic Optimizer: Maximum iterations (200) reached and the optimization hasn't converged yet.\n",
      "  warnings.warn(\n",
      "/home/kali/.local/lib/python3.8/site-packages/sklearn/neural_network/_multilayer_perceptron.py:614: ConvergenceWarning: Stochastic Optimizer: Maximum iterations (200) reached and the optimization hasn't converged yet.\n",
      "  warnings.warn(\n",
      "/home/kali/.local/lib/python3.8/site-packages/sklearn/neural_network/_multilayer_perceptron.py:614: ConvergenceWarning: Stochastic Optimizer: Maximum iterations (200) reached and the optimization hasn't converged yet.\n",
      "  warnings.warn(\n",
      "/home/kali/.local/lib/python3.8/site-packages/sklearn/neural_network/_multilayer_perceptron.py:614: ConvergenceWarning: Stochastic Optimizer: Maximum iterations (200) reached and the optimization hasn't converged yet.\n",
      "  warnings.warn(\n",
      "/home/kali/.local/lib/python3.8/site-packages/sklearn/neural_network/_multilayer_perceptron.py:614: ConvergenceWarning: Stochastic Optimizer: Maximum iterations (200) reached and the optimization hasn't converged yet.\n",
      "  warnings.warn(\n",
      "/home/kali/.local/lib/python3.8/site-packages/sklearn/neural_network/_multilayer_perceptron.py:614: ConvergenceWarning: Stochastic Optimizer: Maximum iterations (200) reached and the optimization hasn't converged yet.\n",
      "  warnings.warn(\n",
      "/home/kali/.local/lib/python3.8/site-packages/sklearn/neural_network/_multilayer_perceptron.py:614: ConvergenceWarning: Stochastic Optimizer: Maximum iterations (200) reached and the optimization hasn't converged yet.\n",
      "  warnings.warn(\n",
      "/home/kali/.local/lib/python3.8/site-packages/sklearn/neural_network/_multilayer_perceptron.py:614: ConvergenceWarning: Stochastic Optimizer: Maximum iterations (200) reached and the optimization hasn't converged yet.\n",
      "  warnings.warn(\n",
      "/home/kali/.local/lib/python3.8/site-packages/sklearn/neural_network/_multilayer_perceptron.py:614: ConvergenceWarning: Stochastic Optimizer: Maximum iterations (200) reached and the optimization hasn't converged yet.\n",
      "  warnings.warn(\n",
      "/home/kali/.local/lib/python3.8/site-packages/sklearn/neural_network/_multilayer_perceptron.py:614: ConvergenceWarning: Stochastic Optimizer: Maximum iterations (200) reached and the optimization hasn't converged yet.\n",
      "  warnings.warn(\n",
      "/home/kali/.local/lib/python3.8/site-packages/sklearn/neural_network/_multilayer_perceptron.py:614: ConvergenceWarning: Stochastic Optimizer: Maximum iterations (200) reached and the optimization hasn't converged yet.\n",
      "  warnings.warn(\n",
      "/home/kali/.local/lib/python3.8/site-packages/sklearn/neural_network/_multilayer_perceptron.py:614: ConvergenceWarning: Stochastic Optimizer: Maximum iterations (200) reached and the optimization hasn't converged yet.\n",
      "  warnings.warn(\n",
      "/home/kali/.local/lib/python3.8/site-packages/sklearn/neural_network/_multilayer_perceptron.py:614: ConvergenceWarning: Stochastic Optimizer: Maximum iterations (200) reached and the optimization hasn't converged yet.\n",
      "  warnings.warn(\n",
      "/home/kali/.local/lib/python3.8/site-packages/sklearn/neural_network/_multilayer_perceptron.py:614: ConvergenceWarning: Stochastic Optimizer: Maximum iterations (200) reached and the optimization hasn't converged yet.\n",
      "  warnings.warn(\n",
      "/home/kali/.local/lib/python3.8/site-packages/sklearn/neural_network/_multilayer_perceptron.py:614: ConvergenceWarning: Stochastic Optimizer: Maximum iterations (200) reached and the optimization hasn't converged yet.\n",
      "  warnings.warn(\n",
      "/home/kali/.local/lib/python3.8/site-packages/sklearn/neural_network/_multilayer_perceptron.py:614: ConvergenceWarning: Stochastic Optimizer: Maximum iterations (200) reached and the optimization hasn't converged yet.\n",
      "  warnings.warn(\n",
      "/home/kali/.local/lib/python3.8/site-packages/sklearn/neural_network/_multilayer_perceptron.py:614: ConvergenceWarning: Stochastic Optimizer: Maximum iterations (200) reached and the optimization hasn't converged yet.\n",
      "  warnings.warn(\n",
      "/home/kali/.local/lib/python3.8/site-packages/sklearn/neural_network/_multilayer_perceptron.py:614: ConvergenceWarning: Stochastic Optimizer: Maximum iterations (200) reached and the optimization hasn't converged yet.\n",
      "  warnings.warn(\n",
      "/home/kali/.local/lib/python3.8/site-packages/sklearn/neural_network/_multilayer_perceptron.py:614: ConvergenceWarning: Stochastic Optimizer: Maximum iterations (200) reached and the optimization hasn't converged yet.\n",
      "  warnings.warn(\n",
      "/home/kali/.local/lib/python3.8/site-packages/sklearn/neural_network/_multilayer_perceptron.py:614: ConvergenceWarning: Stochastic Optimizer: Maximum iterations (200) reached and the optimization hasn't converged yet.\n",
      "  warnings.warn(\n",
      "/home/kali/.local/lib/python3.8/site-packages/sklearn/neural_network/_multilayer_perceptron.py:614: ConvergenceWarning: Stochastic Optimizer: Maximum iterations (200) reached and the optimization hasn't converged yet.\n",
      "  warnings.warn(\n"
     ]
    },
    {
     "name": "stderr",
     "output_type": "stream",
     "text": [
      "/home/kali/.local/lib/python3.8/site-packages/sklearn/neural_network/_multilayer_perceptron.py:614: ConvergenceWarning: Stochastic Optimizer: Maximum iterations (200) reached and the optimization hasn't converged yet.\n",
      "  warnings.warn(\n",
      "/home/kali/.local/lib/python3.8/site-packages/sklearn/neural_network/_multilayer_perceptron.py:614: ConvergenceWarning: Stochastic Optimizer: Maximum iterations (200) reached and the optimization hasn't converged yet.\n",
      "  warnings.warn(\n",
      "/home/kali/.local/lib/python3.8/site-packages/sklearn/neural_network/_multilayer_perceptron.py:614: ConvergenceWarning: Stochastic Optimizer: Maximum iterations (200) reached and the optimization hasn't converged yet.\n",
      "  warnings.warn(\n",
      "/home/kali/.local/lib/python3.8/site-packages/sklearn/neural_network/_multilayer_perceptron.py:614: ConvergenceWarning: Stochastic Optimizer: Maximum iterations (200) reached and the optimization hasn't converged yet.\n",
      "  warnings.warn(\n",
      "/home/kali/.local/lib/python3.8/site-packages/sklearn/neural_network/_multilayer_perceptron.py:614: ConvergenceWarning: Stochastic Optimizer: Maximum iterations (200) reached and the optimization hasn't converged yet.\n",
      "  warnings.warn(\n",
      "/home/kali/.local/lib/python3.8/site-packages/sklearn/neural_network/_multilayer_perceptron.py:614: ConvergenceWarning: Stochastic Optimizer: Maximum iterations (200) reached and the optimization hasn't converged yet.\n",
      "  warnings.warn(\n",
      "/home/kali/.local/lib/python3.8/site-packages/sklearn/neural_network/_multilayer_perceptron.py:614: ConvergenceWarning: Stochastic Optimizer: Maximum iterations (200) reached and the optimization hasn't converged yet.\n",
      "  warnings.warn(\n",
      "/home/kali/.local/lib/python3.8/site-packages/sklearn/neural_network/_multilayer_perceptron.py:614: ConvergenceWarning: Stochastic Optimizer: Maximum iterations (200) reached and the optimization hasn't converged yet.\n",
      "  warnings.warn(\n",
      "/home/kali/.local/lib/python3.8/site-packages/sklearn/neural_network/_multilayer_perceptron.py:614: ConvergenceWarning: Stochastic Optimizer: Maximum iterations (200) reached and the optimization hasn't converged yet.\n",
      "  warnings.warn(\n",
      "/home/kali/.local/lib/python3.8/site-packages/sklearn/neural_network/_multilayer_perceptron.py:614: ConvergenceWarning: Stochastic Optimizer: Maximum iterations (200) reached and the optimization hasn't converged yet.\n",
      "  warnings.warn(\n",
      "/home/kali/.local/lib/python3.8/site-packages/sklearn/neural_network/_multilayer_perceptron.py:614: ConvergenceWarning: Stochastic Optimizer: Maximum iterations (200) reached and the optimization hasn't converged yet.\n",
      "  warnings.warn(\n",
      "/home/kali/.local/lib/python3.8/site-packages/sklearn/neural_network/_multilayer_perceptron.py:614: ConvergenceWarning: Stochastic Optimizer: Maximum iterations (200) reached and the optimization hasn't converged yet.\n",
      "  warnings.warn(\n",
      "/home/kali/.local/lib/python3.8/site-packages/sklearn/neural_network/_multilayer_perceptron.py:614: ConvergenceWarning: Stochastic Optimizer: Maximum iterations (200) reached and the optimization hasn't converged yet.\n",
      "  warnings.warn(\n",
      "/home/kali/.local/lib/python3.8/site-packages/sklearn/neural_network/_multilayer_perceptron.py:614: ConvergenceWarning: Stochastic Optimizer: Maximum iterations (200) reached and the optimization hasn't converged yet.\n",
      "  warnings.warn(\n",
      "/home/kali/.local/lib/python3.8/site-packages/sklearn/neural_network/_multilayer_perceptron.py:614: ConvergenceWarning: Stochastic Optimizer: Maximum iterations (200) reached and the optimization hasn't converged yet.\n",
      "  warnings.warn(\n",
      "/home/kali/.local/lib/python3.8/site-packages/sklearn/neural_network/_multilayer_perceptron.py:614: ConvergenceWarning: Stochastic Optimizer: Maximum iterations (200) reached and the optimization hasn't converged yet.\n",
      "  warnings.warn(\n",
      "/home/kali/.local/lib/python3.8/site-packages/sklearn/neural_network/_multilayer_perceptron.py:614: ConvergenceWarning: Stochastic Optimizer: Maximum iterations (200) reached and the optimization hasn't converged yet.\n",
      "  warnings.warn(\n",
      "/home/kali/.local/lib/python3.8/site-packages/sklearn/neural_network/_multilayer_perceptron.py:614: ConvergenceWarning: Stochastic Optimizer: Maximum iterations (200) reached and the optimization hasn't converged yet.\n",
      "  warnings.warn(\n",
      "/home/kali/.local/lib/python3.8/site-packages/sklearn/neural_network/_multilayer_perceptron.py:614: ConvergenceWarning: Stochastic Optimizer: Maximum iterations (200) reached and the optimization hasn't converged yet.\n",
      "  warnings.warn(\n",
      "/home/kali/.local/lib/python3.8/site-packages/sklearn/neural_network/_multilayer_perceptron.py:614: ConvergenceWarning: Stochastic Optimizer: Maximum iterations (200) reached and the optimization hasn't converged yet.\n",
      "  warnings.warn(\n",
      "/home/kali/.local/lib/python3.8/site-packages/sklearn/neural_network/_multilayer_perceptron.py:614: ConvergenceWarning: Stochastic Optimizer: Maximum iterations (200) reached and the optimization hasn't converged yet.\n",
      "  warnings.warn(\n",
      "/home/kali/.local/lib/python3.8/site-packages/sklearn/neural_network/_multilayer_perceptron.py:614: ConvergenceWarning: Stochastic Optimizer: Maximum iterations (200) reached and the optimization hasn't converged yet.\n",
      "  warnings.warn(\n",
      "/home/kali/.local/lib/python3.8/site-packages/sklearn/neural_network/_multilayer_perceptron.py:614: ConvergenceWarning: Stochastic Optimizer: Maximum iterations (200) reached and the optimization hasn't converged yet.\n",
      "  warnings.warn(\n",
      "/home/kali/.local/lib/python3.8/site-packages/sklearn/neural_network/_multilayer_perceptron.py:614: ConvergenceWarning: Stochastic Optimizer: Maximum iterations (200) reached and the optimization hasn't converged yet.\n",
      "  warnings.warn(\n",
      "/home/kali/.local/lib/python3.8/site-packages/sklearn/neural_network/_multilayer_perceptron.py:614: ConvergenceWarning: Stochastic Optimizer: Maximum iterations (200) reached and the optimization hasn't converged yet.\n",
      "  warnings.warn(\n",
      "/home/kali/.local/lib/python3.8/site-packages/sklearn/neural_network/_multilayer_perceptron.py:614: ConvergenceWarning: Stochastic Optimizer: Maximum iterations (200) reached and the optimization hasn't converged yet.\n",
      "  warnings.warn(\n",
      "/home/kali/.local/lib/python3.8/site-packages/sklearn/neural_network/_multilayer_perceptron.py:614: ConvergenceWarning: Stochastic Optimizer: Maximum iterations (200) reached and the optimization hasn't converged yet.\n",
      "  warnings.warn(\n",
      "/home/kali/.local/lib/python3.8/site-packages/sklearn/neural_network/_multilayer_perceptron.py:614: ConvergenceWarning: Stochastic Optimizer: Maximum iterations (200) reached and the optimization hasn't converged yet.\n",
      "  warnings.warn(\n",
      "/home/kali/.local/lib/python3.8/site-packages/sklearn/neural_network/_multilayer_perceptron.py:614: ConvergenceWarning: Stochastic Optimizer: Maximum iterations (200) reached and the optimization hasn't converged yet.\n",
      "  warnings.warn(\n",
      "/home/kali/.local/lib/python3.8/site-packages/sklearn/neural_network/_multilayer_perceptron.py:614: ConvergenceWarning: Stochastic Optimizer: Maximum iterations (200) reached and the optimization hasn't converged yet.\n",
      "  warnings.warn(\n",
      "/home/kali/.local/lib/python3.8/site-packages/sklearn/neural_network/_multilayer_perceptron.py:614: ConvergenceWarning: Stochastic Optimizer: Maximum iterations (200) reached and the optimization hasn't converged yet.\n",
      "  warnings.warn(\n",
      "/home/kali/.local/lib/python3.8/site-packages/sklearn/neural_network/_multilayer_perceptron.py:614: ConvergenceWarning: Stochastic Optimizer: Maximum iterations (200) reached and the optimization hasn't converged yet.\n",
      "  warnings.warn(\n",
      "/home/kali/.local/lib/python3.8/site-packages/sklearn/neural_network/_multilayer_perceptron.py:614: ConvergenceWarning: Stochastic Optimizer: Maximum iterations (200) reached and the optimization hasn't converged yet.\n",
      "  warnings.warn(\n",
      "/home/kali/.local/lib/python3.8/site-packages/sklearn/neural_network/_multilayer_perceptron.py:614: ConvergenceWarning: Stochastic Optimizer: Maximum iterations (200) reached and the optimization hasn't converged yet.\n",
      "  warnings.warn(\n",
      "/home/kali/.local/lib/python3.8/site-packages/sklearn/neural_network/_multilayer_perceptron.py:614: ConvergenceWarning: Stochastic Optimizer: Maximum iterations (200) reached and the optimization hasn't converged yet.\n",
      "  warnings.warn(\n"
     ]
    },
    {
     "name": "stderr",
     "output_type": "stream",
     "text": [
      "/home/kali/.local/lib/python3.8/site-packages/sklearn/neural_network/_multilayer_perceptron.py:614: ConvergenceWarning: Stochastic Optimizer: Maximum iterations (200) reached and the optimization hasn't converged yet.\n",
      "  warnings.warn(\n",
      "/home/kali/.local/lib/python3.8/site-packages/sklearn/neural_network/_multilayer_perceptron.py:614: ConvergenceWarning: Stochastic Optimizer: Maximum iterations (200) reached and the optimization hasn't converged yet.\n",
      "  warnings.warn(\n",
      "/home/kali/.local/lib/python3.8/site-packages/sklearn/neural_network/_multilayer_perceptron.py:614: ConvergenceWarning: Stochastic Optimizer: Maximum iterations (200) reached and the optimization hasn't converged yet.\n",
      "  warnings.warn(\n",
      "/home/kali/.local/lib/python3.8/site-packages/sklearn/neural_network/_multilayer_perceptron.py:614: ConvergenceWarning: Stochastic Optimizer: Maximum iterations (200) reached and the optimization hasn't converged yet.\n",
      "  warnings.warn(\n",
      "/home/kali/.local/lib/python3.8/site-packages/sklearn/neural_network/_multilayer_perceptron.py:614: ConvergenceWarning: Stochastic Optimizer: Maximum iterations (200) reached and the optimization hasn't converged yet.\n",
      "  warnings.warn(\n",
      "/home/kali/.local/lib/python3.8/site-packages/sklearn/neural_network/_multilayer_perceptron.py:614: ConvergenceWarning: Stochastic Optimizer: Maximum iterations (200) reached and the optimization hasn't converged yet.\n",
      "  warnings.warn(\n",
      "/home/kali/.local/lib/python3.8/site-packages/sklearn/neural_network/_multilayer_perceptron.py:614: ConvergenceWarning: Stochastic Optimizer: Maximum iterations (200) reached and the optimization hasn't converged yet.\n",
      "  warnings.warn(\n",
      "/home/kali/.local/lib/python3.8/site-packages/sklearn/neural_network/_multilayer_perceptron.py:614: ConvergenceWarning: Stochastic Optimizer: Maximum iterations (200) reached and the optimization hasn't converged yet.\n",
      "  warnings.warn(\n",
      "/home/kali/.local/lib/python3.8/site-packages/sklearn/neural_network/_multilayer_perceptron.py:614: ConvergenceWarning: Stochastic Optimizer: Maximum iterations (200) reached and the optimization hasn't converged yet.\n",
      "  warnings.warn(\n",
      "/home/kali/.local/lib/python3.8/site-packages/sklearn/neural_network/_multilayer_perceptron.py:614: ConvergenceWarning: Stochastic Optimizer: Maximum iterations (200) reached and the optimization hasn't converged yet.\n",
      "  warnings.warn(\n",
      "/home/kali/.local/lib/python3.8/site-packages/sklearn/neural_network/_multilayer_perceptron.py:614: ConvergenceWarning: Stochastic Optimizer: Maximum iterations (200) reached and the optimization hasn't converged yet.\n",
      "  warnings.warn(\n",
      "/home/kali/.local/lib/python3.8/site-packages/sklearn/neural_network/_multilayer_perceptron.py:614: ConvergenceWarning: Stochastic Optimizer: Maximum iterations (200) reached and the optimization hasn't converged yet.\n",
      "  warnings.warn(\n",
      "/home/kali/.local/lib/python3.8/site-packages/sklearn/neural_network/_multilayer_perceptron.py:614: ConvergenceWarning: Stochastic Optimizer: Maximum iterations (200) reached and the optimization hasn't converged yet.\n",
      "  warnings.warn(\n",
      "/home/kali/.local/lib/python3.8/site-packages/sklearn/neural_network/_multilayer_perceptron.py:614: ConvergenceWarning: Stochastic Optimizer: Maximum iterations (200) reached and the optimization hasn't converged yet.\n",
      "  warnings.warn(\n",
      "/home/kali/.local/lib/python3.8/site-packages/sklearn/neural_network/_multilayer_perceptron.py:614: ConvergenceWarning: Stochastic Optimizer: Maximum iterations (200) reached and the optimization hasn't converged yet.\n",
      "  warnings.warn(\n",
      "/home/kali/.local/lib/python3.8/site-packages/sklearn/neural_network/_multilayer_perceptron.py:614: ConvergenceWarning: Stochastic Optimizer: Maximum iterations (200) reached and the optimization hasn't converged yet.\n",
      "  warnings.warn(\n",
      "/home/kali/.local/lib/python3.8/site-packages/sklearn/neural_network/_multilayer_perceptron.py:614: ConvergenceWarning: Stochastic Optimizer: Maximum iterations (200) reached and the optimization hasn't converged yet.\n",
      "  warnings.warn(\n",
      "/home/kali/.local/lib/python3.8/site-packages/sklearn/neural_network/_multilayer_perceptron.py:614: ConvergenceWarning: Stochastic Optimizer: Maximum iterations (200) reached and the optimization hasn't converged yet.\n",
      "  warnings.warn(\n",
      "/home/kali/.local/lib/python3.8/site-packages/sklearn/neural_network/_multilayer_perceptron.py:614: ConvergenceWarning: Stochastic Optimizer: Maximum iterations (200) reached and the optimization hasn't converged yet.\n",
      "  warnings.warn(\n",
      "/home/kali/.local/lib/python3.8/site-packages/sklearn/neural_network/_multilayer_perceptron.py:614: ConvergenceWarning: Stochastic Optimizer: Maximum iterations (200) reached and the optimization hasn't converged yet.\n",
      "  warnings.warn(\n",
      "/home/kali/.local/lib/python3.8/site-packages/sklearn/neural_network/_multilayer_perceptron.py:614: ConvergenceWarning: Stochastic Optimizer: Maximum iterations (200) reached and the optimization hasn't converged yet.\n",
      "  warnings.warn(\n",
      "/home/kali/.local/lib/python3.8/site-packages/sklearn/neural_network/_multilayer_perceptron.py:614: ConvergenceWarning: Stochastic Optimizer: Maximum iterations (200) reached and the optimization hasn't converged yet.\n",
      "  warnings.warn(\n",
      "/home/kali/.local/lib/python3.8/site-packages/sklearn/neural_network/_multilayer_perceptron.py:614: ConvergenceWarning: Stochastic Optimizer: Maximum iterations (200) reached and the optimization hasn't converged yet.\n",
      "  warnings.warn(\n",
      "/home/kali/.local/lib/python3.8/site-packages/sklearn/neural_network/_multilayer_perceptron.py:614: ConvergenceWarning: Stochastic Optimizer: Maximum iterations (200) reached and the optimization hasn't converged yet.\n",
      "  warnings.warn(\n",
      "/home/kali/.local/lib/python3.8/site-packages/sklearn/neural_network/_multilayer_perceptron.py:614: ConvergenceWarning: Stochastic Optimizer: Maximum iterations (200) reached and the optimization hasn't converged yet.\n",
      "  warnings.warn(\n",
      "/home/kali/.local/lib/python3.8/site-packages/sklearn/neural_network/_multilayer_perceptron.py:614: ConvergenceWarning: Stochastic Optimizer: Maximum iterations (200) reached and the optimization hasn't converged yet.\n",
      "  warnings.warn(\n",
      "/home/kali/.local/lib/python3.8/site-packages/sklearn/neural_network/_multilayer_perceptron.py:614: ConvergenceWarning: Stochastic Optimizer: Maximum iterations (200) reached and the optimization hasn't converged yet.\n",
      "  warnings.warn(\n",
      "/home/kali/.local/lib/python3.8/site-packages/sklearn/neural_network/_multilayer_perceptron.py:614: ConvergenceWarning: Stochastic Optimizer: Maximum iterations (200) reached and the optimization hasn't converged yet.\n",
      "  warnings.warn(\n",
      "/home/kali/.local/lib/python3.8/site-packages/sklearn/neural_network/_multilayer_perceptron.py:614: ConvergenceWarning: Stochastic Optimizer: Maximum iterations (200) reached and the optimization hasn't converged yet.\n",
      "  warnings.warn(\n",
      "/home/kali/.local/lib/python3.8/site-packages/sklearn/neural_network/_multilayer_perceptron.py:614: ConvergenceWarning: Stochastic Optimizer: Maximum iterations (200) reached and the optimization hasn't converged yet.\n",
      "  warnings.warn(\n",
      "/home/kali/.local/lib/python3.8/site-packages/sklearn/neural_network/_multilayer_perceptron.py:614: ConvergenceWarning: Stochastic Optimizer: Maximum iterations (200) reached and the optimization hasn't converged yet.\n",
      "  warnings.warn(\n",
      "/home/kali/.local/lib/python3.8/site-packages/sklearn/neural_network/_multilayer_perceptron.py:614: ConvergenceWarning: Stochastic Optimizer: Maximum iterations (200) reached and the optimization hasn't converged yet.\n",
      "  warnings.warn(\n",
      "/home/kali/.local/lib/python3.8/site-packages/sklearn/neural_network/_multilayer_perceptron.py:614: ConvergenceWarning: Stochastic Optimizer: Maximum iterations (200) reached and the optimization hasn't converged yet.\n",
      "  warnings.warn(\n",
      "/home/kali/.local/lib/python3.8/site-packages/sklearn/neural_network/_multilayer_perceptron.py:614: ConvergenceWarning: Stochastic Optimizer: Maximum iterations (200) reached and the optimization hasn't converged yet.\n",
      "  warnings.warn(\n",
      "/home/kali/.local/lib/python3.8/site-packages/sklearn/neural_network/_multilayer_perceptron.py:614: ConvergenceWarning: Stochastic Optimizer: Maximum iterations (200) reached and the optimization hasn't converged yet.\n",
      "  warnings.warn(\n"
     ]
    },
    {
     "name": "stderr",
     "output_type": "stream",
     "text": [
      "/home/kali/.local/lib/python3.8/site-packages/sklearn/neural_network/_multilayer_perceptron.py:614: ConvergenceWarning: Stochastic Optimizer: Maximum iterations (200) reached and the optimization hasn't converged yet.\n",
      "  warnings.warn(\n",
      "/home/kali/.local/lib/python3.8/site-packages/sklearn/neural_network/_multilayer_perceptron.py:614: ConvergenceWarning: Stochastic Optimizer: Maximum iterations (200) reached and the optimization hasn't converged yet.\n",
      "  warnings.warn(\n",
      "/home/kali/.local/lib/python3.8/site-packages/sklearn/neural_network/_multilayer_perceptron.py:614: ConvergenceWarning: Stochastic Optimizer: Maximum iterations (200) reached and the optimization hasn't converged yet.\n",
      "  warnings.warn(\n",
      "/home/kali/.local/lib/python3.8/site-packages/sklearn/neural_network/_multilayer_perceptron.py:614: ConvergenceWarning: Stochastic Optimizer: Maximum iterations (200) reached and the optimization hasn't converged yet.\n",
      "  warnings.warn(\n",
      "/home/kali/.local/lib/python3.8/site-packages/sklearn/neural_network/_multilayer_perceptron.py:614: ConvergenceWarning: Stochastic Optimizer: Maximum iterations (200) reached and the optimization hasn't converged yet.\n",
      "  warnings.warn(\n",
      "/home/kali/.local/lib/python3.8/site-packages/sklearn/neural_network/_multilayer_perceptron.py:614: ConvergenceWarning: Stochastic Optimizer: Maximum iterations (200) reached and the optimization hasn't converged yet.\n",
      "  warnings.warn(\n",
      "/home/kali/.local/lib/python3.8/site-packages/sklearn/neural_network/_multilayer_perceptron.py:614: ConvergenceWarning: Stochastic Optimizer: Maximum iterations (200) reached and the optimization hasn't converged yet.\n",
      "  warnings.warn(\n",
      "/home/kali/.local/lib/python3.8/site-packages/sklearn/neural_network/_multilayer_perceptron.py:614: ConvergenceWarning: Stochastic Optimizer: Maximum iterations (200) reached and the optimization hasn't converged yet.\n",
      "  warnings.warn(\n",
      "/home/kali/.local/lib/python3.8/site-packages/sklearn/neural_network/_multilayer_perceptron.py:614: ConvergenceWarning: Stochastic Optimizer: Maximum iterations (200) reached and the optimization hasn't converged yet.\n",
      "  warnings.warn(\n",
      "/home/kali/.local/lib/python3.8/site-packages/sklearn/neural_network/_multilayer_perceptron.py:614: ConvergenceWarning: Stochastic Optimizer: Maximum iterations (200) reached and the optimization hasn't converged yet.\n",
      "  warnings.warn(\n",
      "/home/kali/.local/lib/python3.8/site-packages/sklearn/neural_network/_multilayer_perceptron.py:614: ConvergenceWarning: Stochastic Optimizer: Maximum iterations (200) reached and the optimization hasn't converged yet.\n",
      "  warnings.warn(\n",
      "/home/kali/.local/lib/python3.8/site-packages/sklearn/neural_network/_multilayer_perceptron.py:614: ConvergenceWarning: Stochastic Optimizer: Maximum iterations (200) reached and the optimization hasn't converged yet.\n",
      "  warnings.warn(\n",
      "/home/kali/.local/lib/python3.8/site-packages/sklearn/neural_network/_multilayer_perceptron.py:614: ConvergenceWarning: Stochastic Optimizer: Maximum iterations (200) reached and the optimization hasn't converged yet.\n",
      "  warnings.warn(\n",
      "/home/kali/.local/lib/python3.8/site-packages/sklearn/neural_network/_multilayer_perceptron.py:614: ConvergenceWarning: Stochastic Optimizer: Maximum iterations (200) reached and the optimization hasn't converged yet.\n",
      "  warnings.warn(\n"
     ]
    },
    {
     "name": "stdout",
     "output_type": "stream",
     "text": [
      "BEST PARAMS : {'activation': 'tanh', 'hidden_layer_sizes': (100,), 'learning_rate': 'constant'}\n",
      "0.723 (+/-0.096 for {'activation': 'relu', 'hidden_layer_sizes': (10,), 'learning_rate': 'constant'}\n",
      "0.725 (+/-0.085 for {'activation': 'relu', 'hidden_layer_sizes': (10,), 'learning_rate': 'invscaling'}\n",
      "0.663 (+/-0.315 for {'activation': 'relu', 'hidden_layer_sizes': (10,), 'learning_rate': 'adaptive'}\n",
      "0.774 (+/-0.125 for {'activation': 'relu', 'hidden_layer_sizes': (50,), 'learning_rate': 'constant'}\n",
      "0.774 (+/-0.127 for {'activation': 'relu', 'hidden_layer_sizes': (50,), 'learning_rate': 'invscaling'}\n",
      "0.781 (+/-0.126 for {'activation': 'relu', 'hidden_layer_sizes': (50,), 'learning_rate': 'adaptive'}\n",
      "0.79 (+/-0.082 for {'activation': 'relu', 'hidden_layer_sizes': (100,), 'learning_rate': 'constant'}\n",
      "0.768 (+/-0.079 for {'activation': 'relu', 'hidden_layer_sizes': (100,), 'learning_rate': 'invscaling'}\n",
      "0.792 (+/-0.105 for {'activation': 'relu', 'hidden_layer_sizes': (100,), 'learning_rate': 'adaptive'}\n",
      "0.672 (+/-0.051 for {'activation': 'tanh', 'hidden_layer_sizes': (10,), 'learning_rate': 'constant'}\n",
      "0.697 (+/-0.072 for {'activation': 'tanh', 'hidden_layer_sizes': (10,), 'learning_rate': 'invscaling'}\n",
      "0.684 (+/-0.073 for {'activation': 'tanh', 'hidden_layer_sizes': (10,), 'learning_rate': 'adaptive'}\n",
      "0.768 (+/-0.06 for {'activation': 'tanh', 'hidden_layer_sizes': (50,), 'learning_rate': 'constant'}\n",
      "0.774 (+/-0.084 for {'activation': 'tanh', 'hidden_layer_sizes': (50,), 'learning_rate': 'invscaling'}\n",
      "0.772 (+/-0.109 for {'activation': 'tanh', 'hidden_layer_sizes': (50,), 'learning_rate': 'adaptive'}\n",
      "0.807 (+/-0.084 for {'activation': 'tanh', 'hidden_layer_sizes': (100,), 'learning_rate': 'constant'}\n",
      "0.781 (+/-0.074 for {'activation': 'tanh', 'hidden_layer_sizes': (100,), 'learning_rate': 'invscaling'}\n",
      "0.803 (+/-0.093 for {'activation': 'tanh', 'hidden_layer_sizes': (100,), 'learning_rate': 'adaptive'}\n",
      "0.684 (+/-0.091 for {'activation': 'logistic', 'hidden_layer_sizes': (10,), 'learning_rate': 'constant'}\n",
      "0.678 (+/-0.101 for {'activation': 'logistic', 'hidden_layer_sizes': (10,), 'learning_rate': 'invscaling'}\n",
      "0.695 (+/-0.092 for {'activation': 'logistic', 'hidden_layer_sizes': (10,), 'learning_rate': 'adaptive'}\n",
      "0.745 (+/-0.124 for {'activation': 'logistic', 'hidden_layer_sizes': (50,), 'learning_rate': 'constant'}\n",
      "0.755 (+/-0.1 for {'activation': 'logistic', 'hidden_layer_sizes': (50,), 'learning_rate': 'invscaling'}\n",
      "0.751 (+/-0.094 for {'activation': 'logistic', 'hidden_layer_sizes': (50,), 'learning_rate': 'adaptive'}\n",
      "0.787 (+/-0.107 for {'activation': 'logistic', 'hidden_layer_sizes': (100,), 'learning_rate': 'constant'}\n",
      "0.775 (+/-0.148 for {'activation': 'logistic', 'hidden_layer_sizes': (100,), 'learning_rate': 'invscaling'}\n",
      "0.789 (+/-0.103 for {'activation': 'logistic', 'hidden_layer_sizes': (100,), 'learning_rate': 'adaptive'}\n"
     ]
    },
    {
     "name": "stderr",
     "output_type": "stream",
     "text": [
      "/home/kali/.local/lib/python3.8/site-packages/sklearn/neural_network/_multilayer_perceptron.py:614: ConvergenceWarning: Stochastic Optimizer: Maximum iterations (200) reached and the optimization hasn't converged yet.\n",
      "  warnings.warn(\n"
     ]
    }
   ],
   "source": [
    "parameters = {'hidden_layer_sizes' : [(10,),(50,),(100,)],\n",
    "             'learning_rate': ['constant', 'invscaling', 'adaptive'],\n",
    "             'activation': ['relu', 'tanh', 'logistic']}\n",
    "cv = GridSearchCV(mlp_model,parameters,cv=5)\n",
    "cv.fit(tr_feature,tr_label.values.ravel())\n",
    "print_result(cv)"
   ]
  },
  {
   "cell_type": "code",
   "execution_count": 40,
   "metadata": {},
   "outputs": [
    {
     "data": {
      "text/plain": [
       "['MLP_model.pkl']"
      ]
     },
     "execution_count": 40,
     "metadata": {},
     "output_type": "execute_result"
    }
   ],
   "source": [
    "joblib.dump(cv.best_estimator_,'MLP_model.pkl')"
   ]
  },
  {
   "cell_type": "code",
   "execution_count": null,
   "metadata": {},
   "outputs": [],
   "source": []
  },
  {
   "cell_type": "markdown",
   "metadata": {},
   "source": [
    "# 4) Train the model in RandomForest"
   ]
  },
  {
   "cell_type": "code",
   "execution_count": 23,
   "metadata": {},
   "outputs": [],
   "source": [
    "from sklearn.ensemble import RandomForestClassifier\n",
    "\n",
    "rf_model = RandomForestClassifier()"
   ]
  },
  {
   "cell_type": "code",
   "execution_count": 24,
   "metadata": {},
   "outputs": [
    {
     "name": "stdout",
     "output_type": "stream",
     "text": [
      "BEST PARAMS : {'max_depth': 4, 'n_estimators': 150}\n",
      "0.77 (+/-0.134 for {'max_depth': 2, 'n_estimators': 5}\n",
      "0.785 (+/-0.137 for {'max_depth': 2, 'n_estimators': 10}\n",
      "0.783 (+/-0.117 for {'max_depth': 2, 'n_estimators': 25}\n",
      "0.794 (+/-0.135 for {'max_depth': 2, 'n_estimators': 30}\n",
      "0.796 (+/-0.116 for {'max_depth': 2, 'n_estimators': 100}\n",
      "0.802 (+/-0.116 for {'max_depth': 2, 'n_estimators': 150}\n",
      "0.796 (+/-0.12 for {'max_depth': 2, 'n_estimators': 200}\n",
      "0.815 (+/-0.107 for {'max_depth': 4, 'n_estimators': 5}\n",
      "0.805 (+/-0.092 for {'max_depth': 4, 'n_estimators': 10}\n",
      "0.815 (+/-0.132 for {'max_depth': 4, 'n_estimators': 25}\n",
      "0.826 (+/-0.119 for {'max_depth': 4, 'n_estimators': 30}\n",
      "0.82 (+/-0.113 for {'max_depth': 4, 'n_estimators': 100}\n",
      "0.828 (+/-0.113 for {'max_depth': 4, 'n_estimators': 150}\n",
      "0.818 (+/-0.122 for {'max_depth': 4, 'n_estimators': 200}\n",
      "0.796 (+/-0.046 for {'max_depth': 8, 'n_estimators': 5}\n",
      "0.817 (+/-0.092 for {'max_depth': 8, 'n_estimators': 10}\n",
      "0.813 (+/-0.084 for {'max_depth': 8, 'n_estimators': 25}\n",
      "0.826 (+/-0.067 for {'max_depth': 8, 'n_estimators': 30}\n",
      "0.818 (+/-0.084 for {'max_depth': 8, 'n_estimators': 100}\n",
      "0.824 (+/-0.067 for {'max_depth': 8, 'n_estimators': 150}\n",
      "0.817 (+/-0.067 for {'max_depth': 8, 'n_estimators': 200}\n",
      "0.807 (+/-0.06 for {'max_depth': 16, 'n_estimators': 5}\n",
      "0.811 (+/-0.032 for {'max_depth': 16, 'n_estimators': 10}\n",
      "0.805 (+/-0.043 for {'max_depth': 16, 'n_estimators': 25}\n",
      "0.805 (+/-0.022 for {'max_depth': 16, 'n_estimators': 30}\n",
      "0.815 (+/-0.043 for {'max_depth': 16, 'n_estimators': 100}\n",
      "0.818 (+/-0.024 for {'max_depth': 16, 'n_estimators': 150}\n",
      "0.805 (+/-0.027 for {'max_depth': 16, 'n_estimators': 200}\n",
      "0.807 (+/-0.052 for {'max_depth': 32, 'n_estimators': 5}\n",
      "0.811 (+/-0.028 for {'max_depth': 32, 'n_estimators': 10}\n",
      "0.817 (+/-0.034 for {'max_depth': 32, 'n_estimators': 25}\n",
      "0.805 (+/-0.022 for {'max_depth': 32, 'n_estimators': 30}\n",
      "0.805 (+/-0.021 for {'max_depth': 32, 'n_estimators': 100}\n",
      "0.809 (+/-0.03 for {'max_depth': 32, 'n_estimators': 150}\n",
      "0.809 (+/-0.029 for {'max_depth': 32, 'n_estimators': 200}\n",
      "0.792 (+/-0.056 for {'max_depth': 64, 'n_estimators': 5}\n",
      "0.822 (+/-0.026 for {'max_depth': 64, 'n_estimators': 10}\n",
      "0.803 (+/-0.039 for {'max_depth': 64, 'n_estimators': 25}\n",
      "0.824 (+/-0.025 for {'max_depth': 64, 'n_estimators': 30}\n",
      "0.803 (+/-0.021 for {'max_depth': 64, 'n_estimators': 100}\n",
      "0.807 (+/-0.026 for {'max_depth': 64, 'n_estimators': 150}\n",
      "0.809 (+/-0.025 for {'max_depth': 64, 'n_estimators': 200}\n",
      "0.785 (+/-0.059 for {'max_depth': None, 'n_estimators': 5}\n",
      "0.794 (+/-0.025 for {'max_depth': None, 'n_estimators': 10}\n",
      "0.811 (+/-0.039 for {'max_depth': None, 'n_estimators': 25}\n",
      "0.807 (+/-0.015 for {'max_depth': None, 'n_estimators': 30}\n",
      "0.811 (+/-0.027 for {'max_depth': None, 'n_estimators': 100}\n",
      "0.813 (+/-0.033 for {'max_depth': None, 'n_estimators': 150}\n",
      "0.809 (+/-0.032 for {'max_depth': None, 'n_estimators': 200}\n"
     ]
    }
   ],
   "source": [
    "parameters = {'n_estimators':[5,10,25,30,100,150,200],\n",
    "             'max_depth': [2,4,8,16,32,64,None]}\n",
    "cv = GridSearchCV(rf_model,parameters,cv=5)\n",
    "cv.fit(tr_feature,tr_label.values.ravel())\n",
    "print_result(cv)"
   ]
  },
  {
   "cell_type": "code",
   "execution_count": 25,
   "metadata": {},
   "outputs": [
    {
     "data": {
      "text/plain": [
       "['rf_model.pkl']"
      ]
     },
     "execution_count": 25,
     "metadata": {},
     "output_type": "execute_result"
    }
   ],
   "source": [
    "joblib.dump(cv.best_estimator_,'rf_model.pkl')"
   ]
  },
  {
   "cell_type": "code",
   "execution_count": null,
   "metadata": {},
   "outputs": [],
   "source": []
  },
  {
   "cell_type": "markdown",
   "metadata": {},
   "source": [
    "# 5) Train the model in Boosting"
   ]
  },
  {
   "cell_type": "code",
   "execution_count": 26,
   "metadata": {},
   "outputs": [],
   "source": [
    "from sklearn.ensemble import GradientBoostingClassifier\n",
    "\n",
    "bst_model = GradientBoostingClassifier()"
   ]
  },
  {
   "cell_type": "code",
   "execution_count": 27,
   "metadata": {},
   "outputs": [
    {
     "name": "stdout",
     "output_type": "stream",
     "text": [
      "BEST PARAMS : {'learning_rate': 0.1, 'max_depth': 3, 'n_estimators': 50}\n",
      "0.624 (+/-0.007 for {'learning_rate': 0.001, 'max_depth': 1, 'n_estimators': 5}\n",
      "0.624 (+/-0.007 for {'learning_rate': 0.001, 'max_depth': 1, 'n_estimators': 10}\n",
      "0.624 (+/-0.007 for {'learning_rate': 0.001, 'max_depth': 1, 'n_estimators': 50}\n",
      "0.624 (+/-0.007 for {'learning_rate': 0.001, 'max_depth': 1, 'n_estimators': 100}\n",
      "0.624 (+/-0.007 for {'learning_rate': 0.001, 'max_depth': 1, 'n_estimators': 150}\n",
      "0.624 (+/-0.007 for {'learning_rate': 0.001, 'max_depth': 1, 'n_estimators': 200}\n",
      "0.624 (+/-0.007 for {'learning_rate': 0.001, 'max_depth': 3, 'n_estimators': 5}\n",
      "0.624 (+/-0.007 for {'learning_rate': 0.001, 'max_depth': 3, 'n_estimators': 10}\n",
      "0.624 (+/-0.007 for {'learning_rate': 0.001, 'max_depth': 3, 'n_estimators': 50}\n",
      "0.624 (+/-0.007 for {'learning_rate': 0.001, 'max_depth': 3, 'n_estimators': 100}\n",
      "0.624 (+/-0.007 for {'learning_rate': 0.001, 'max_depth': 3, 'n_estimators': 150}\n",
      "0.624 (+/-0.007 for {'learning_rate': 0.001, 'max_depth': 3, 'n_estimators': 200}\n",
      "0.624 (+/-0.007 for {'learning_rate': 0.001, 'max_depth': 5, 'n_estimators': 5}\n",
      "0.624 (+/-0.007 for {'learning_rate': 0.001, 'max_depth': 5, 'n_estimators': 10}\n",
      "0.624 (+/-0.007 for {'learning_rate': 0.001, 'max_depth': 5, 'n_estimators': 50}\n",
      "0.624 (+/-0.007 for {'learning_rate': 0.001, 'max_depth': 5, 'n_estimators': 100}\n",
      "0.624 (+/-0.007 for {'learning_rate': 0.001, 'max_depth': 5, 'n_estimators': 150}\n",
      "0.624 (+/-0.007 for {'learning_rate': 0.001, 'max_depth': 5, 'n_estimators': 200}\n",
      "0.624 (+/-0.007 for {'learning_rate': 0.001, 'max_depth': 6, 'n_estimators': 5}\n",
      "0.624 (+/-0.007 for {'learning_rate': 0.001, 'max_depth': 6, 'n_estimators': 10}\n",
      "0.624 (+/-0.007 for {'learning_rate': 0.001, 'max_depth': 6, 'n_estimators': 50}\n",
      "0.624 (+/-0.007 for {'learning_rate': 0.001, 'max_depth': 6, 'n_estimators': 100}\n",
      "0.624 (+/-0.007 for {'learning_rate': 0.001, 'max_depth': 6, 'n_estimators': 150}\n",
      "0.624 (+/-0.007 for {'learning_rate': 0.001, 'max_depth': 6, 'n_estimators': 200}\n",
      "0.624 (+/-0.007 for {'learning_rate': 0.001, 'max_depth': 7, 'n_estimators': 5}\n",
      "0.624 (+/-0.007 for {'learning_rate': 0.001, 'max_depth': 7, 'n_estimators': 10}\n",
      "0.624 (+/-0.007 for {'learning_rate': 0.001, 'max_depth': 7, 'n_estimators': 50}\n",
      "0.624 (+/-0.007 for {'learning_rate': 0.001, 'max_depth': 7, 'n_estimators': 100}\n",
      "0.624 (+/-0.007 for {'learning_rate': 0.001, 'max_depth': 7, 'n_estimators': 150}\n",
      "0.624 (+/-0.007 for {'learning_rate': 0.001, 'max_depth': 7, 'n_estimators': 200}\n",
      "0.624 (+/-0.007 for {'learning_rate': 0.001, 'max_depth': 9, 'n_estimators': 5}\n",
      "0.624 (+/-0.007 for {'learning_rate': 0.001, 'max_depth': 9, 'n_estimators': 10}\n",
      "0.624 (+/-0.007 for {'learning_rate': 0.001, 'max_depth': 9, 'n_estimators': 50}\n",
      "0.624 (+/-0.007 for {'learning_rate': 0.001, 'max_depth': 9, 'n_estimators': 100}\n",
      "0.624 (+/-0.007 for {'learning_rate': 0.001, 'max_depth': 9, 'n_estimators': 150}\n",
      "0.624 (+/-0.007 for {'learning_rate': 0.001, 'max_depth': 9, 'n_estimators': 200}\n",
      "0.624 (+/-0.007 for {'learning_rate': 0.01, 'max_depth': 1, 'n_estimators': 5}\n",
      "0.624 (+/-0.007 for {'learning_rate': 0.01, 'max_depth': 1, 'n_estimators': 10}\n",
      "0.796 (+/-0.115 for {'learning_rate': 0.01, 'max_depth': 1, 'n_estimators': 50}\n",
      "0.796 (+/-0.115 for {'learning_rate': 0.01, 'max_depth': 1, 'n_estimators': 100}\n",
      "0.796 (+/-0.115 for {'learning_rate': 0.01, 'max_depth': 1, 'n_estimators': 150}\n",
      "0.796 (+/-0.115 for {'learning_rate': 0.01, 'max_depth': 1, 'n_estimators': 200}\n",
      "0.624 (+/-0.007 for {'learning_rate': 0.01, 'max_depth': 3, 'n_estimators': 5}\n",
      "0.624 (+/-0.007 for {'learning_rate': 0.01, 'max_depth': 3, 'n_estimators': 10}\n",
      "0.811 (+/-0.069 for {'learning_rate': 0.01, 'max_depth': 3, 'n_estimators': 50}\n",
      "0.815 (+/-0.069 for {'learning_rate': 0.01, 'max_depth': 3, 'n_estimators': 100}\n",
      "0.817 (+/-0.052 for {'learning_rate': 0.01, 'max_depth': 3, 'n_estimators': 150}\n",
      "0.828 (+/-0.076 for {'learning_rate': 0.01, 'max_depth': 3, 'n_estimators': 200}\n",
      "0.624 (+/-0.007 for {'learning_rate': 0.01, 'max_depth': 5, 'n_estimators': 5}\n",
      "0.624 (+/-0.007 for {'learning_rate': 0.01, 'max_depth': 5, 'n_estimators': 10}\n",
      "0.82 (+/-0.051 for {'learning_rate': 0.01, 'max_depth': 5, 'n_estimators': 50}\n",
      "0.815 (+/-0.054 for {'learning_rate': 0.01, 'max_depth': 5, 'n_estimators': 100}\n",
      "0.818 (+/-0.053 for {'learning_rate': 0.01, 'max_depth': 5, 'n_estimators': 150}\n",
      "0.818 (+/-0.043 for {'learning_rate': 0.01, 'max_depth': 5, 'n_estimators': 200}\n",
      "0.624 (+/-0.007 for {'learning_rate': 0.01, 'max_depth': 6, 'n_estimators': 5}\n",
      "0.624 (+/-0.007 for {'learning_rate': 0.01, 'max_depth': 6, 'n_estimators': 10}\n",
      "0.818 (+/-0.059 for {'learning_rate': 0.01, 'max_depth': 6, 'n_estimators': 50}\n",
      "0.818 (+/-0.06 for {'learning_rate': 0.01, 'max_depth': 6, 'n_estimators': 100}\n",
      "0.811 (+/-0.061 for {'learning_rate': 0.01, 'max_depth': 6, 'n_estimators': 150}\n",
      "0.817 (+/-0.036 for {'learning_rate': 0.01, 'max_depth': 6, 'n_estimators': 200}\n",
      "0.624 (+/-0.007 for {'learning_rate': 0.01, 'max_depth': 7, 'n_estimators': 5}\n",
      "0.624 (+/-0.007 for {'learning_rate': 0.01, 'max_depth': 7, 'n_estimators': 10}\n",
      "0.817 (+/-0.049 for {'learning_rate': 0.01, 'max_depth': 7, 'n_estimators': 50}\n",
      "0.82 (+/-0.024 for {'learning_rate': 0.01, 'max_depth': 7, 'n_estimators': 100}\n",
      "0.817 (+/-0.029 for {'learning_rate': 0.01, 'max_depth': 7, 'n_estimators': 150}\n",
      "0.818 (+/-0.032 for {'learning_rate': 0.01, 'max_depth': 7, 'n_estimators': 200}\n",
      "0.624 (+/-0.007 for {'learning_rate': 0.01, 'max_depth': 9, 'n_estimators': 5}\n",
      "0.624 (+/-0.007 for {'learning_rate': 0.01, 'max_depth': 9, 'n_estimators': 10}\n",
      "0.803 (+/-0.059 for {'learning_rate': 0.01, 'max_depth': 9, 'n_estimators': 50}\n",
      "0.8 (+/-0.041 for {'learning_rate': 0.01, 'max_depth': 9, 'n_estimators': 100}\n",
      "0.811 (+/-0.043 for {'learning_rate': 0.01, 'max_depth': 9, 'n_estimators': 150}\n",
      "0.805 (+/-0.032 for {'learning_rate': 0.01, 'max_depth': 9, 'n_estimators': 200}\n",
      "0.796 (+/-0.115 for {'learning_rate': 0.1, 'max_depth': 1, 'n_estimators': 5}\n",
      "0.796 (+/-0.115 for {'learning_rate': 0.1, 'max_depth': 1, 'n_estimators': 10}\n",
      "0.815 (+/-0.119 for {'learning_rate': 0.1, 'max_depth': 1, 'n_estimators': 50}\n",
      "0.82 (+/-0.104 for {'learning_rate': 0.1, 'max_depth': 1, 'n_estimators': 100}\n",
      "0.824 (+/-0.098 for {'learning_rate': 0.1, 'max_depth': 1, 'n_estimators': 150}\n",
      "0.82 (+/-0.104 for {'learning_rate': 0.1, 'max_depth': 1, 'n_estimators': 200}\n",
      "0.813 (+/-0.071 for {'learning_rate': 0.1, 'max_depth': 3, 'n_estimators': 5}\n",
      "0.815 (+/-0.069 for {'learning_rate': 0.1, 'max_depth': 3, 'n_estimators': 10}\n",
      "0.841 (+/-0.07 for {'learning_rate': 0.1, 'max_depth': 3, 'n_estimators': 50}\n",
      "0.833 (+/-0.039 for {'learning_rate': 0.1, 'max_depth': 3, 'n_estimators': 100}\n",
      "0.828 (+/-0.03 for {'learning_rate': 0.1, 'max_depth': 3, 'n_estimators': 150}\n",
      "0.824 (+/-0.036 for {'learning_rate': 0.1, 'max_depth': 3, 'n_estimators': 200}\n",
      "0.815 (+/-0.044 for {'learning_rate': 0.1, 'max_depth': 5, 'n_estimators': 5}\n",
      "0.82 (+/-0.057 for {'learning_rate': 0.1, 'max_depth': 5, 'n_estimators': 10}\n",
      "0.82 (+/-0.025 for {'learning_rate': 0.1, 'max_depth': 5, 'n_estimators': 50}\n",
      "0.815 (+/-0.013 for {'learning_rate': 0.1, 'max_depth': 5, 'n_estimators': 100}\n",
      "0.807 (+/-0.042 for {'learning_rate': 0.1, 'max_depth': 5, 'n_estimators': 150}\n",
      "0.805 (+/-0.037 for {'learning_rate': 0.1, 'max_depth': 5, 'n_estimators': 200}\n",
      "0.82 (+/-0.06 for {'learning_rate': 0.1, 'max_depth': 6, 'n_estimators': 5}\n",
      "0.818 (+/-0.068 for {'learning_rate': 0.1, 'max_depth': 6, 'n_estimators': 10}\n",
      "0.811 (+/-0.033 for {'learning_rate': 0.1, 'max_depth': 6, 'n_estimators': 50}\n",
      "0.798 (+/-0.026 for {'learning_rate': 0.1, 'max_depth': 6, 'n_estimators': 100}\n",
      "0.794 (+/-0.026 for {'learning_rate': 0.1, 'max_depth': 6, 'n_estimators': 150}\n",
      "0.79 (+/-0.019 for {'learning_rate': 0.1, 'max_depth': 6, 'n_estimators': 200}\n",
      "0.818 (+/-0.049 for {'learning_rate': 0.1, 'max_depth': 7, 'n_estimators': 5}\n",
      "0.817 (+/-0.041 for {'learning_rate': 0.1, 'max_depth': 7, 'n_estimators': 10}\n",
      "0.8 (+/-0.019 for {'learning_rate': 0.1, 'max_depth': 7, 'n_estimators': 50}\n",
      "0.787 (+/-0.03 for {'learning_rate': 0.1, 'max_depth': 7, 'n_estimators': 100}\n",
      "0.798 (+/-0.026 for {'learning_rate': 0.1, 'max_depth': 7, 'n_estimators': 150}\n",
      "0.798 (+/-0.029 for {'learning_rate': 0.1, 'max_depth': 7, 'n_estimators': 200}\n",
      "0.802 (+/-0.044 for {'learning_rate': 0.1, 'max_depth': 9, 'n_estimators': 5}\n",
      "0.8 (+/-0.043 for {'learning_rate': 0.1, 'max_depth': 9, 'n_estimators': 10}\n",
      "0.788 (+/-0.026 for {'learning_rate': 0.1, 'max_depth': 9, 'n_estimators': 50}\n",
      "0.779 (+/-0.029 for {'learning_rate': 0.1, 'max_depth': 9, 'n_estimators': 100}\n",
      "0.783 (+/-0.025 for {'learning_rate': 0.1, 'max_depth': 9, 'n_estimators': 150}\n",
      "0.783 (+/-0.049 for {'learning_rate': 0.1, 'max_depth': 9, 'n_estimators': 200}\n",
      "0.818 (+/-0.099 for {'learning_rate': 1, 'max_depth': 1, 'n_estimators': 5}\n",
      "0.815 (+/-0.131 for {'learning_rate': 1, 'max_depth': 1, 'n_estimators': 10}\n",
      "0.832 (+/-0.081 for {'learning_rate': 1, 'max_depth': 1, 'n_estimators': 50}\n",
      "0.837 (+/-0.073 for {'learning_rate': 1, 'max_depth': 1, 'n_estimators': 100}\n",
      "0.832 (+/-0.067 for {'learning_rate': 1, 'max_depth': 1, 'n_estimators': 150}\n",
      "0.832 (+/-0.067 for {'learning_rate': 1, 'max_depth': 1, 'n_estimators': 200}\n",
      "0.824 (+/-0.057 for {'learning_rate': 1, 'max_depth': 3, 'n_estimators': 5}\n",
      "0.811 (+/-0.029 for {'learning_rate': 1, 'max_depth': 3, 'n_estimators': 10}\n",
      "0.8 (+/-0.024 for {'learning_rate': 1, 'max_depth': 3, 'n_estimators': 50}\n",
      "0.79 (+/-0.039 for {'learning_rate': 1, 'max_depth': 3, 'n_estimators': 100}\n",
      "0.794 (+/-0.034 for {'learning_rate': 1, 'max_depth': 3, 'n_estimators': 150}\n",
      "0.792 (+/-0.044 for {'learning_rate': 1, 'max_depth': 3, 'n_estimators': 200}\n",
      "0.794 (+/-0.034 for {'learning_rate': 1, 'max_depth': 5, 'n_estimators': 5}\n",
      "0.788 (+/-0.046 for {'learning_rate': 1, 'max_depth': 5, 'n_estimators': 10}\n",
      "0.803 (+/-0.026 for {'learning_rate': 1, 'max_depth': 5, 'n_estimators': 50}\n",
      "0.788 (+/-0.026 for {'learning_rate': 1, 'max_depth': 5, 'n_estimators': 100}\n",
      "0.79 (+/-0.028 for {'learning_rate': 1, 'max_depth': 5, 'n_estimators': 150}\n",
      "0.788 (+/-0.025 for {'learning_rate': 1, 'max_depth': 5, 'n_estimators': 200}\n",
      "0.792 (+/-0.033 for {'learning_rate': 1, 'max_depth': 6, 'n_estimators': 5}\n",
      "0.798 (+/-0.045 for {'learning_rate': 1, 'max_depth': 6, 'n_estimators': 10}\n",
      "0.798 (+/-0.054 for {'learning_rate': 1, 'max_depth': 6, 'n_estimators': 50}\n",
      "0.798 (+/-0.034 for {'learning_rate': 1, 'max_depth': 6, 'n_estimators': 100}\n",
      "0.792 (+/-0.054 for {'learning_rate': 1, 'max_depth': 6, 'n_estimators': 150}\n",
      "0.796 (+/-0.068 for {'learning_rate': 1, 'max_depth': 6, 'n_estimators': 200}\n",
      "0.792 (+/-0.013 for {'learning_rate': 1, 'max_depth': 7, 'n_estimators': 5}\n",
      "0.783 (+/-0.069 for {'learning_rate': 1, 'max_depth': 7, 'n_estimators': 10}\n",
      "0.787 (+/-0.032 for {'learning_rate': 1, 'max_depth': 7, 'n_estimators': 50}\n",
      "0.792 (+/-0.02 for {'learning_rate': 1, 'max_depth': 7, 'n_estimators': 100}\n",
      "0.794 (+/-0.033 for {'learning_rate': 1, 'max_depth': 7, 'n_estimators': 150}\n",
      "0.785 (+/-0.025 for {'learning_rate': 1, 'max_depth': 7, 'n_estimators': 200}\n",
      "0.775 (+/-0.048 for {'learning_rate': 1, 'max_depth': 9, 'n_estimators': 5}\n",
      "0.787 (+/-0.025 for {'learning_rate': 1, 'max_depth': 9, 'n_estimators': 10}\n",
      "0.79 (+/-0.026 for {'learning_rate': 1, 'max_depth': 9, 'n_estimators': 50}\n",
      "0.785 (+/-0.066 for {'learning_rate': 1, 'max_depth': 9, 'n_estimators': 100}\n",
      "0.792 (+/-0.051 for {'learning_rate': 1, 'max_depth': 9, 'n_estimators': 150}\n",
      "0.792 (+/-0.047 for {'learning_rate': 1, 'max_depth': 9, 'n_estimators': 200}\n",
      "0.204 (+/-0.115 for {'learning_rate': 5, 'max_depth': 1, 'n_estimators': 5}\n",
      "0.204 (+/-0.115 for {'learning_rate': 5, 'max_depth': 1, 'n_estimators': 10}\n",
      "0.204 (+/-0.115 for {'learning_rate': 5, 'max_depth': 1, 'n_estimators': 50}\n",
      "0.204 (+/-0.115 for {'learning_rate': 5, 'max_depth': 1, 'n_estimators': 100}\n",
      "0.204 (+/-0.115 for {'learning_rate': 5, 'max_depth': 1, 'n_estimators': 150}\n",
      "0.204 (+/-0.115 for {'learning_rate': 5, 'max_depth': 1, 'n_estimators': 200}\n",
      "0.481 (+/-0.339 for {'learning_rate': 5, 'max_depth': 3, 'n_estimators': 5}\n",
      "0.496 (+/-0.331 for {'learning_rate': 5, 'max_depth': 3, 'n_estimators': 10}\n",
      "0.496 (+/-0.331 for {'learning_rate': 5, 'max_depth': 3, 'n_estimators': 50}\n",
      "0.496 (+/-0.331 for {'learning_rate': 5, 'max_depth': 3, 'n_estimators': 100}\n",
      "0.496 (+/-0.331 for {'learning_rate': 5, 'max_depth': 3, 'n_estimators': 150}\n",
      "0.496 (+/-0.331 for {'learning_rate': 5, 'max_depth': 3, 'n_estimators': 200}\n",
      "0.515 (+/-0.262 for {'learning_rate': 5, 'max_depth': 5, 'n_estimators': 5}\n",
      "0.451 (+/-0.276 for {'learning_rate': 5, 'max_depth': 5, 'n_estimators': 10}\n",
      "0.449 (+/-0.278 for {'learning_rate': 5, 'max_depth': 5, 'n_estimators': 50}\n",
      "0.432 (+/-0.246 for {'learning_rate': 5, 'max_depth': 5, 'n_estimators': 100}\n",
      "0.47 (+/-0.318 for {'learning_rate': 5, 'max_depth': 5, 'n_estimators': 150}\n",
      "0.421 (+/-0.206 for {'learning_rate': 5, 'max_depth': 5, 'n_estimators': 200}\n",
      "0.498 (+/-0.129 for {'learning_rate': 5, 'max_depth': 6, 'n_estimators': 5}\n",
      "0.515 (+/-0.137 for {'learning_rate': 5, 'max_depth': 6, 'n_estimators': 10}\n",
      "0.564 (+/-0.256 for {'learning_rate': 5, 'max_depth': 6, 'n_estimators': 50}\n",
      "0.463 (+/-0.061 for {'learning_rate': 5, 'max_depth': 6, 'n_estimators': 100}\n",
      "0.496 (+/-0.126 for {'learning_rate': 5, 'max_depth': 6, 'n_estimators': 150}\n",
      "0.583 (+/-0.22 for {'learning_rate': 5, 'max_depth': 6, 'n_estimators': 200}\n",
      "0.597 (+/-0.129 for {'learning_rate': 5, 'max_depth': 7, 'n_estimators': 5}\n",
      "0.504 (+/-0.106 for {'learning_rate': 5, 'max_depth': 7, 'n_estimators': 10}\n",
      "0.534 (+/-0.167 for {'learning_rate': 5, 'max_depth': 7, 'n_estimators': 50}\n",
      "0.61 (+/-0.137 for {'learning_rate': 5, 'max_depth': 7, 'n_estimators': 100}\n",
      "0.593 (+/-0.114 for {'learning_rate': 5, 'max_depth': 7, 'n_estimators': 150}\n",
      "0.569 (+/-0.165 for {'learning_rate': 5, 'max_depth': 7, 'n_estimators': 200}\n",
      "0.685 (+/-0.141 for {'learning_rate': 5, 'max_depth': 9, 'n_estimators': 5}\n",
      "0.683 (+/-0.07 for {'learning_rate': 5, 'max_depth': 9, 'n_estimators': 10}\n",
      "0.697 (+/-0.066 for {'learning_rate': 5, 'max_depth': 9, 'n_estimators': 50}\n",
      "0.712 (+/-0.097 for {'learning_rate': 5, 'max_depth': 9, 'n_estimators': 100}\n",
      "0.687 (+/-0.137 for {'learning_rate': 5, 'max_depth': 9, 'n_estimators': 150}\n",
      "0.667 (+/-0.109 for {'learning_rate': 5, 'max_depth': 9, 'n_estimators': 200}\n",
      "0.204 (+/-0.115 for {'learning_rate': 10, 'max_depth': 1, 'n_estimators': 5}\n",
      "0.204 (+/-0.115 for {'learning_rate': 10, 'max_depth': 1, 'n_estimators': 10}\n",
      "0.204 (+/-0.115 for {'learning_rate': 10, 'max_depth': 1, 'n_estimators': 50}\n",
      "0.204 (+/-0.115 for {'learning_rate': 10, 'max_depth': 1, 'n_estimators': 100}\n",
      "0.204 (+/-0.115 for {'learning_rate': 10, 'max_depth': 1, 'n_estimators': 150}\n",
      "0.204 (+/-0.115 for {'learning_rate': 10, 'max_depth': 1, 'n_estimators': 200}\n",
      "0.307 (+/-0.195 for {'learning_rate': 10, 'max_depth': 3, 'n_estimators': 5}\n",
      "0.307 (+/-0.195 for {'learning_rate': 10, 'max_depth': 3, 'n_estimators': 10}\n",
      "0.307 (+/-0.195 for {'learning_rate': 10, 'max_depth': 3, 'n_estimators': 50}\n",
      "0.307 (+/-0.195 for {'learning_rate': 10, 'max_depth': 3, 'n_estimators': 100}\n",
      "0.307 (+/-0.195 for {'learning_rate': 10, 'max_depth': 3, 'n_estimators': 150}\n",
      "0.307 (+/-0.195 for {'learning_rate': 10, 'max_depth': 3, 'n_estimators': 200}\n",
      "0.387 (+/-0.173 for {'learning_rate': 10, 'max_depth': 5, 'n_estimators': 5}\n",
      "0.415 (+/-0.264 for {'learning_rate': 10, 'max_depth': 5, 'n_estimators': 10}\n",
      "0.442 (+/-0.263 for {'learning_rate': 10, 'max_depth': 5, 'n_estimators': 50}\n",
      "0.442 (+/-0.263 for {'learning_rate': 10, 'max_depth': 5, 'n_estimators': 100}\n",
      "0.415 (+/-0.264 for {'learning_rate': 10, 'max_depth': 5, 'n_estimators': 150}\n",
      "0.414 (+/-0.264 for {'learning_rate': 10, 'max_depth': 5, 'n_estimators': 200}\n",
      "0.502 (+/-0.235 for {'learning_rate': 10, 'max_depth': 6, 'n_estimators': 5}\n",
      "0.459 (+/-0.119 for {'learning_rate': 10, 'max_depth': 6, 'n_estimators': 10}\n",
      "0.492 (+/-0.252 for {'learning_rate': 10, 'max_depth': 6, 'n_estimators': 50}\n",
      "0.511 (+/-0.238 for {'learning_rate': 10, 'max_depth': 6, 'n_estimators': 100}\n",
      "0.507 (+/-0.224 for {'learning_rate': 10, 'max_depth': 6, 'n_estimators': 150}\n",
      "0.506 (+/-0.198 for {'learning_rate': 10, 'max_depth': 6, 'n_estimators': 200}\n",
      "0.579 (+/-0.248 for {'learning_rate': 10, 'max_depth': 7, 'n_estimators': 5}\n",
      "0.614 (+/-0.235 for {'learning_rate': 10, 'max_depth': 7, 'n_estimators': 10}\n",
      "0.592 (+/-0.204 for {'learning_rate': 10, 'max_depth': 7, 'n_estimators': 50}\n",
      "0.596 (+/-0.127 for {'learning_rate': 10, 'max_depth': 7, 'n_estimators': 100}\n",
      "0.592 (+/-0.27 for {'learning_rate': 10, 'max_depth': 7, 'n_estimators': 150}\n",
      "0.588 (+/-0.125 for {'learning_rate': 10, 'max_depth': 7, 'n_estimators': 200}\n",
      "0.702 (+/-0.132 for {'learning_rate': 10, 'max_depth': 9, 'n_estimators': 5}\n",
      "0.685 (+/-0.1 for {'learning_rate': 10, 'max_depth': 9, 'n_estimators': 10}\n",
      "0.71 (+/-0.119 for {'learning_rate': 10, 'max_depth': 9, 'n_estimators': 50}\n",
      "0.695 (+/-0.104 for {'learning_rate': 10, 'max_depth': 9, 'n_estimators': 100}\n",
      "0.687 (+/-0.11 for {'learning_rate': 10, 'max_depth': 9, 'n_estimators': 150}\n",
      "0.672 (+/-0.117 for {'learning_rate': 10, 'max_depth': 9, 'n_estimators': 200}\n",
      "0.376 (+/-0.007 for {'learning_rate': 50, 'max_depth': 1, 'n_estimators': 5}\n",
      "0.376 (+/-0.007 for {'learning_rate': 50, 'max_depth': 1, 'n_estimators': 10}\n",
      "0.376 (+/-0.007 for {'learning_rate': 50, 'max_depth': 1, 'n_estimators': 50}\n",
      "0.376 (+/-0.007 for {'learning_rate': 50, 'max_depth': 1, 'n_estimators': 100}\n",
      "0.376 (+/-0.007 for {'learning_rate': 50, 'max_depth': 1, 'n_estimators': 150}\n",
      "0.376 (+/-0.007 for {'learning_rate': 50, 'max_depth': 1, 'n_estimators': 200}\n",
      "0.27 (+/-0.08 for {'learning_rate': 50, 'max_depth': 3, 'n_estimators': 5}\n",
      "0.27 (+/-0.08 for {'learning_rate': 50, 'max_depth': 3, 'n_estimators': 10}\n",
      "0.27 (+/-0.08 for {'learning_rate': 50, 'max_depth': 3, 'n_estimators': 50}\n",
      "0.27 (+/-0.08 for {'learning_rate': 50, 'max_depth': 3, 'n_estimators': 100}\n",
      "0.27 (+/-0.08 for {'learning_rate': 50, 'max_depth': 3, 'n_estimators': 150}\n",
      "0.27 (+/-0.08 for {'learning_rate': 50, 'max_depth': 3, 'n_estimators': 200}\n",
      "0.384 (+/-0.194 for {'learning_rate': 50, 'max_depth': 5, 'n_estimators': 5}\n",
      "0.387 (+/-0.199 for {'learning_rate': 50, 'max_depth': 5, 'n_estimators': 10}\n",
      "0.38 (+/-0.187 for {'learning_rate': 50, 'max_depth': 5, 'n_estimators': 50}\n",
      "0.38 (+/-0.185 for {'learning_rate': 50, 'max_depth': 5, 'n_estimators': 100}\n",
      "0.384 (+/-0.194 for {'learning_rate': 50, 'max_depth': 5, 'n_estimators': 150}\n",
      "0.38 (+/-0.185 for {'learning_rate': 50, 'max_depth': 5, 'n_estimators': 200}\n",
      "0.541 (+/-0.241 for {'learning_rate': 50, 'max_depth': 6, 'n_estimators': 5}\n",
      "0.457 (+/-0.068 for {'learning_rate': 50, 'max_depth': 6, 'n_estimators': 10}\n",
      "0.511 (+/-0.137 for {'learning_rate': 50, 'max_depth': 6, 'n_estimators': 50}\n",
      "0.466 (+/-0.127 for {'learning_rate': 50, 'max_depth': 6, 'n_estimators': 100}\n",
      "0.522 (+/-0.143 for {'learning_rate': 50, 'max_depth': 6, 'n_estimators': 150}\n",
      "0.457 (+/-0.069 for {'learning_rate': 50, 'max_depth': 6, 'n_estimators': 200}\n",
      "0.595 (+/-0.074 for {'learning_rate': 50, 'max_depth': 7, 'n_estimators': 5}\n",
      "0.526 (+/-0.139 for {'learning_rate': 50, 'max_depth': 7, 'n_estimators': 10}\n",
      "0.547 (+/-0.116 for {'learning_rate': 50, 'max_depth': 7, 'n_estimators': 50}\n",
      "0.52 (+/-0.141 for {'learning_rate': 50, 'max_depth': 7, 'n_estimators': 100}\n",
      "0.547 (+/-0.167 for {'learning_rate': 50, 'max_depth': 7, 'n_estimators': 150}\n",
      "0.535 (+/-0.152 for {'learning_rate': 50, 'max_depth': 7, 'n_estimators': 200}\n",
      "0.668 (+/-0.102 for {'learning_rate': 50, 'max_depth': 9, 'n_estimators': 5}\n",
      "0.7 (+/-0.11 for {'learning_rate': 50, 'max_depth': 9, 'n_estimators': 10}\n",
      "0.62 (+/-0.228 for {'learning_rate': 50, 'max_depth': 9, 'n_estimators': 50}\n",
      "0.678 (+/-0.071 for {'learning_rate': 50, 'max_depth': 9, 'n_estimators': 100}\n",
      "0.64 (+/-0.066 for {'learning_rate': 50, 'max_depth': 9, 'n_estimators': 150}\n",
      "0.637 (+/-0.111 for {'learning_rate': 50, 'max_depth': 9, 'n_estimators': 200}\n",
      "0.376 (+/-0.007 for {'learning_rate': 100, 'max_depth': 1, 'n_estimators': 5}\n",
      "0.376 (+/-0.007 for {'learning_rate': 100, 'max_depth': 1, 'n_estimators': 10}\n",
      "0.376 (+/-0.007 for {'learning_rate': 100, 'max_depth': 1, 'n_estimators': 50}\n",
      "0.376 (+/-0.007 for {'learning_rate': 100, 'max_depth': 1, 'n_estimators': 100}\n",
      "0.376 (+/-0.007 for {'learning_rate': 100, 'max_depth': 1, 'n_estimators': 150}\n",
      "0.376 (+/-0.007 for {'learning_rate': 100, 'max_depth': 1, 'n_estimators': 200}\n",
      "0.29 (+/-0.102 for {'learning_rate': 100, 'max_depth': 3, 'n_estimators': 5}\n",
      "0.29 (+/-0.102 for {'learning_rate': 100, 'max_depth': 3, 'n_estimators': 10}\n",
      "0.29 (+/-0.102 for {'learning_rate': 100, 'max_depth': 3, 'n_estimators': 50}\n",
      "0.29 (+/-0.102 for {'learning_rate': 100, 'max_depth': 3, 'n_estimators': 100}\n",
      "0.29 (+/-0.102 for {'learning_rate': 100, 'max_depth': 3, 'n_estimators': 150}\n",
      "0.29 (+/-0.102 for {'learning_rate': 100, 'max_depth': 3, 'n_estimators': 200}\n",
      "0.354 (+/-0.191 for {'learning_rate': 100, 'max_depth': 5, 'n_estimators': 5}\n",
      "0.352 (+/-0.187 for {'learning_rate': 100, 'max_depth': 5, 'n_estimators': 10}\n",
      "0.363 (+/-0.191 for {'learning_rate': 100, 'max_depth': 5, 'n_estimators': 50}\n",
      "0.357 (+/-0.199 for {'learning_rate': 100, 'max_depth': 5, 'n_estimators': 100}\n",
      "0.356 (+/-0.196 for {'learning_rate': 100, 'max_depth': 5, 'n_estimators': 150}\n",
      "0.354 (+/-0.191 for {'learning_rate': 100, 'max_depth': 5, 'n_estimators': 200}\n",
      "0.558 (+/-0.264 for {'learning_rate': 100, 'max_depth': 6, 'n_estimators': 5}\n",
      "0.496 (+/-0.266 for {'learning_rate': 100, 'max_depth': 6, 'n_estimators': 10}\n",
      "0.545 (+/-0.266 for {'learning_rate': 100, 'max_depth': 6, 'n_estimators': 50}\n",
      "0.563 (+/-0.254 for {'learning_rate': 100, 'max_depth': 6, 'n_estimators': 100}\n",
      "0.481 (+/-0.231 for {'learning_rate': 100, 'max_depth': 6, 'n_estimators': 150}\n",
      "0.492 (+/-0.273 for {'learning_rate': 100, 'max_depth': 6, 'n_estimators': 200}\n",
      "0.566 (+/-0.136 for {'learning_rate': 100, 'max_depth': 7, 'n_estimators': 5}\n",
      "0.618 (+/-0.09 for {'learning_rate': 100, 'max_depth': 7, 'n_estimators': 10}\n",
      "0.588 (+/-0.089 for {'learning_rate': 100, 'max_depth': 7, 'n_estimators': 50}\n",
      "0.567 (+/-0.125 for {'learning_rate': 100, 'max_depth': 7, 'n_estimators': 100}\n",
      "0.61 (+/-0.091 for {'learning_rate': 100, 'max_depth': 7, 'n_estimators': 150}\n",
      "0.588 (+/-0.103 for {'learning_rate': 100, 'max_depth': 7, 'n_estimators': 200}\n",
      "0.659 (+/-0.045 for {'learning_rate': 100, 'max_depth': 9, 'n_estimators': 5}\n",
      "0.672 (+/-0.068 for {'learning_rate': 100, 'max_depth': 9, 'n_estimators': 10}\n",
      "0.689 (+/-0.085 for {'learning_rate': 100, 'max_depth': 9, 'n_estimators': 50}\n",
      "0.663 (+/-0.077 for {'learning_rate': 100, 'max_depth': 9, 'n_estimators': 100}\n",
      "0.699 (+/-0.13 for {'learning_rate': 100, 'max_depth': 9, 'n_estimators': 150}\n",
      "0.68 (+/-0.101 for {'learning_rate': 100, 'max_depth': 9, 'n_estimators': 200}\n"
     ]
    }
   ],
   "source": [
    "parameters = {'learning_rate':[0.001,0.01,0.1,1,5,10,50,100],\n",
    "              'n_estimators':[5,10,50,100,150,200],\n",
    "              'max_depth':[1,3,5,6,7,9]}\n",
    "cv = GridSearchCV(bst_model,parameters,cv=5)\n",
    "cv.fit(tr_feature,tr_label.values.ravel())\n",
    "print_result(cv)"
   ]
  },
  {
   "cell_type": "code",
   "execution_count": 28,
   "metadata": {},
   "outputs": [
    {
     "data": {
      "text/plain": [
       "['bst_model.pkl']"
      ]
     },
     "execution_count": 28,
     "metadata": {},
     "output_type": "execute_result"
    }
   ],
   "source": [
    "joblib.dump(cv.best_estimator_,'bst_model.pkl')"
   ]
  },
  {
   "cell_type": "markdown",
   "metadata": {},
   "source": [
    "## Summary: Compare model results and final model selection\n",
    "1. Evaluate all of our saved models on the validation set\n",
    "2. Select the best model based on performance on the validation set\n",
    "3. Evaluate that model on the holdout test set"
   ]
  },
  {
   "cell_type": "code",
   "execution_count": 29,
   "metadata": {},
   "outputs": [],
   "source": [
    "from sklearn.metrics import accuracy_score, precision_score, recall_score\n",
    "from time import time\n",
    "\n",
    "val_features = pd.read_csv('val_features.csv')\n",
    "val_labels = pd.read_csv('val_label.csv')\n",
    "\n",
    "te_features = pd.read_csv('test_features.csv')\n",
    "te_labels = pd.read_csv('test_label.csv')"
   ]
  },
  {
   "cell_type": "code",
   "execution_count": 41,
   "metadata": {},
   "outputs": [],
   "source": [
    "model = {}\n",
    "for mdl in ['bst','LR','MLP','rf','svm']:\n",
    "    model[mdl] = joblib.load(f'{mdl}_model.pkl')"
   ]
  },
  {
   "cell_type": "code",
   "execution_count": 42,
   "metadata": {
    "scrolled": true
   },
   "outputs": [
    {
     "data": {
      "text/plain": [
       "{'bst': GradientBoostingClassifier(n_estimators=50),\n",
       " 'LR': LogisticRegression(C=1),\n",
       " 'MLP': MLPClassifier(activation='tanh'),\n",
       " 'rf': RandomForestClassifier(max_depth=4, n_estimators=150),\n",
       " 'svm': SVC(C=0.1, kernel='linear')}"
      ]
     },
     "execution_count": 42,
     "metadata": {},
     "output_type": "execute_result"
    }
   ],
   "source": [
    "model"
   ]
  },
  {
   "cell_type": "code",
   "execution_count": 57,
   "metadata": {},
   "outputs": [],
   "source": [
    "def evaluuate_model(name,model,features,labels):\n",
    "    start = time()\n",
    "    pred = model.predict(features)\n",
    "    end = time()\n",
    "    accuracy = round(accuracy_score(labels,pred),3)\n",
    "    precision = round(precision_score(labels,pred),3)\n",
    "    recall = round(recall_score(labels,pred),3)\n",
    "    print(f'{name}--Accuracy: {accuracy}/ Precision: {precision} / Recall: {recall} / Latency: {round((end-start)*1000,1)}ms')"
   ]
  },
  {
   "cell_type": "code",
   "execution_count": 67,
   "metadata": {},
   "outputs": [
    {
     "name": "stdout",
     "output_type": "stream",
     "text": [
      "bst--Accuracy: 0.809/ Precision: 0.804 / Recall: 0.631 / Latency: 10.9ms\n",
      "LR--Accuracy: 0.775/ Precision: 0.712 / Recall: 0.646 / Latency: 3.5ms\n",
      "MLP--Accuracy: 0.781/ Precision: 0.732 / Recall: 0.631 / Latency: 4.7ms\n",
      "rf--Accuracy: 0.815/ Precision: 0.82 / Recall: 0.631 / Latency: 36.4ms\n",
      "svm--Accuracy: 0.747/ Precision: 0.672 / Recall: 0.6 / Latency: 6.7ms\n"
     ]
    }
   ],
   "source": [
    "for name,mdl in model.items():\n",
    "    evaluuate_model(name,mdl,val_features,val_labels)"
   ]
  },
  {
   "cell_type": "code",
   "execution_count": null,
   "metadata": {},
   "outputs": [],
   "source": []
  },
  {
   "cell_type": "markdown",
   "metadata": {},
   "source": [
    "### Evaluate best model on test set"
   ]
  },
  {
   "cell_type": "code",
   "execution_count": 68,
   "metadata": {},
   "outputs": [
    {
     "name": "stdout",
     "output_type": "stream",
     "text": [
      "RandomForest--Accuracy: 0.804/ Precision: 0.86 / Recall: 0.645 / Latency: 56.9ms\n"
     ]
    }
   ],
   "source": [
    "evaluuate_model('RandomForest',model['rf'],te_features,te_labels)"
   ]
  },
  {
   "cell_type": "code",
   "execution_count": null,
   "metadata": {},
   "outputs": [],
   "source": []
  }
 ],
 "metadata": {
  "kernelspec": {
   "display_name": "Python 3",
   "language": "python",
   "name": "python3"
  },
  "language_info": {
   "codemirror_mode": {
    "name": "ipython",
    "version": 3
   },
   "file_extension": ".py",
   "mimetype": "text/x-python",
   "name": "python",
   "nbconvert_exporter": "python",
   "pygments_lexer": "ipython3",
   "version": "3.8.3"
  }
 },
 "nbformat": 4,
 "nbformat_minor": 4
}
